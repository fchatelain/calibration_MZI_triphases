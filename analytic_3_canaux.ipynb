{
 "cells": [
  {
   "cell_type": "markdown",
   "metadata": {},
   "source": [
    "Ce notebook peut être édité/modifié/exécuté en ligne en cliquant sur le lien binder suivant\n",
    "[![Binder](https://mybinder.org/badge_logo.svg)](https://mybinder.org/v2/gh/fchatelain/calibration_MZI_triphases/HEAD?labpath=.%2Fanalytic_3_canaux.ipynb)\n",
    "\n",
    "\n",
    "# Calibration des paramètres d'un MZI à 3 sorties\n",
    "\n",
    "##  Modèle Physique\n",
    "\n",
    "### Equation de la puissance en sortie du MZI en fonction du déphasage\n",
    "\n",
    "On note $p_{\\textrm{in}}$  la puissance du laser en entrée du MZI, et $\\theta(t)$ le déphasage mesuré par le MZI. \n",
    "\n",
    "- 3 sorties déphasées de $2\\pi/3$, dans ce ce cas les puissances sont de la forme:\n",
    "$$\n",
    "p_1(\\theta) = a_1 \\frac{p_{\\textrm{in}}}{3} \\left(1 + \\textrm{cos}(\\theta + \\phi_1) \\right),\\\\\n",
    "p_2(\\theta) = a_2 \\frac{p_{\\textrm{in}}}{3} \\left(1 + \\textrm{cos}(\\theta + 2\\pi/3 + \\phi_2)\\right),\\\\\n",
    "p_3(\\theta) = a_3 \\frac{p_{\\textrm{in}}}{3} \\left(1 + \\textrm{cos}(\\theta - 2\\pi/3 + \\phi_3)\\right),\n",
    "$$\n",
    "et $a_1$, $a_2$ et $a_3$, respectivement $\\phi_1$, $\\phi_2$ et $\\phi_3$,  décrivent le deséquilibre de puissance, respectivement de phase, entre les différentes sorties à cause des imperfections des miroirs et lames semi-réfléchissantes (dans le cas idéal $a_1=a_2=a_3=1$ et $\\phi_1=\\phi_2=\\phi_3=0$).\n",
    "\n",
    "### Modèle d'observation\n",
    "\n",
    "On dispose d'un détecteur optique pour chaque sortie. \n",
    "Dans le cas général, la mesure obtenue sur chaque détecteur est de la forme: \n",
    "$$\n",
    "y_i = c_i (p_i(\\theta) + \\epsilon_i) + o_i,\n",
    "$$\n",
    "où $c_i$ est le gain du détecteur associé à la sortie $i$, $o_i$ est l'offset associé et  $\\epsilon_i$ est le bruit d'observation.\n",
    "\n",
    "### Hypothèses\n",
    "\n",
    "\n",
    "- La puissance du laser en entrée est telle que $\\frac{p_{\\textrm{in}}}{3}=1$ (sans perte de généralité, car ce facteur serait pris en compte dans l'estimation des puissances de chaque sortie et ne modifie pas l'estimation du déséquilibre relatif ni sa correction). \n",
    "- On peut aussi supposer $c_1=c_2=c_3=1$, quitte à les prendre en compte dans les déséquilibres $a_1$,$a_2$ et $a_3$\n",
    "- On suppose que les offsets $o_i$ sont connus, et on peut alors fixer $o_1=o_2=o_3=0$. En pratique, s'ils ne sont pas connus mais identiques $o_1=o_2=o_3=o$ ce qui semble réaliste d'après les données étudiées par Simon, il faudrait observer un déphasage d'un tiers de tour au minimum pour estimer cet offset, séparement de l'estimation des facteurs déséquilibres (en cherchant par exemple le minimum de puissance sur toutes les sorties).\n",
    "\n",
    "Le modèle que l'on considère maintenant se ramène donc à\n",
    "\n",
    "$$y_i(\\theta) = p_i(\\theta) + \\epsilon_i,$$\n",
    "où les puissances $p_i(\\theta)$ pour chaque sortie $i=1,2,3$ sont données ci-dessus, et  le bruit  $\\epsilon_i$ est supposé i.i.d de variance $\\sigma^2$. \n",
    "\n",
    "### Quelques rappels sur les ellipses\n",
    "\n",
    "Le vecteur 3d $(y_1(\\theta), y_2(\\theta), y_3(\\theta))$, tel que définit ci dessus,  décrit une trajectoire paramétrée par $\\theta$ qui est centrée autour d'une ellipse dans un plan 2d. Dans le cas où les signaux sont équilibrés $(a_1=a_2=a_3$ et $\\phi_1=\\phi_2=\\phi_3=0)$ cette ellipse devient un cercle paramétré  comme $A(\\cos(\\theta), \\sin(\\theta)) + (o1,o2)$ dans son plan, ce qui permet de retrouver directement le déphasage $\\theta$. Dans le cas général où les signaux sont mal équilibrés, estimer les paramètres de l'ellipse permet de remonter aux coefficients de déséquilibre $a_1,a_2,a_3$, $\\phi_1,\\phi_2,\\phi_3$ et de les compenser pour obtenir une estimation consistante \n",
    "de $\\theta$.\n",
    "\n",
    "Plusieurs paramétrisation/représentation d'une ellipse peuvent alors être utiles\n",
    "\n",
    "1. la forme *paramétrique* 3d en fonction de $\\theta$:\n",
    "\\begin{align*}\n",
    "p_1(\\theta) &= a_1  \\left(1 + \\textrm{cos}(\\theta + \\phi_1) \\right),\\\\\n",
    "p_2(\\theta) &= a_2 \\left(1 + \\textrm{cos}(\\theta + 2\\pi/3 + \\phi_2)\\right),\\\\\n",
    "p_3(\\theta) &= a_3  \\left(1 + \\textrm{cos}(\\theta - 2\\pi/3 + \\phi_3)\\right).\n",
    "\\end{align*}\n",
    "Cette forme correspond au modèle d'observation. On peut vérifier que l'ellipse \n",
    "est définie dans la plan orthogonal au vecteur suivant\n",
    "$$\n",
    "\\beta =  \\left( \\tfrac{\\sin{\\left(\\phi_2 - \\phi_3 - 2\\pi/3\\right)}} { a_1},\n",
    "\\tfrac{\\sin{\\left(\\phi_3 - \\phi_1 - 2\\pi/3\\right)}} { a_2},\n",
    "\\tfrac{\\sin{\\left(\\phi_1 - \\phi_2 - 2\\pi/3\\right)}} { a_3}\\right)^T,\n",
    "$$\n",
    "et les paramètres géométriques de l'ellipse dans son plan (petit et grand axes, orientation, centre)  peuvent \n",
    "se déduire des coefficients de déséquilibre $a_1,a_2,a_3$ et  $\\phi_1,\\phi_2,\\phi_3$\n",
    "\n",
    "2. la forme géométrique, ou *polaire*, de l'ellipse. Dans la base orthonormale $(u,v)$ du plan 2d où elle est définie, l'ellipse peut se paramétrer comme \n",
    "$$\n",
    "\\begin{pmatrix}\n",
    "x\\\\\n",
    "y\n",
    "\\end{pmatrix} = \n",
    "\\begin{pmatrix}\n",
    "\\cos \\phi & - \\sin \\phi \\\\\n",
    " \\sin \\phi & \\cos \\phi\n",
    "\\end{pmatrix} \n",
    "\\begin{pmatrix}\n",
    "a & 0 \\\\\n",
    " 0 & b\n",
    "\\end{pmatrix} \n",
    "\\begin{pmatrix}\n",
    "\\cos \\theta\\\\\n",
    "\\sin \\theta\n",
    "\\end{pmatrix}\n",
    "+\n",
    "\\begin{pmatrix}\n",
    "o_u\\\\\n",
    "o_v\n",
    "\\end{pmatrix},\n",
    "$$\n",
    "où $(x,y)$ sont les coordonnées dans le plan $(u,v)$, et $R_\\phi$ est la matrice de rotation d'angle $\\phi$.\n",
    "Cette forme permet de retrouver directement les paramètres géométriques de l'ellipse : $a$ et $b$ sont les longueurs de ses grands et petits axes, $\\phi$ son orientation, $(o_u,p_v)$ son centre. Cette forme permet également de retrouver directement la valeur \n",
    "de la phase $\\theta$ en exprimant le signal bivarié (c'est le signal analytique) $(\\cos \\theta, \\sin \\theta)$ à partir des coordinées $(x,y)$ de la trajectoire 2d.\n",
    "\n",
    "3. La forme *quadratique* définit par l'équation implicite dans le plan 2d :\n",
    "$$Ax^2 +B xy +C y^2 +Dx+Ey +F =0,$$ où $(x,y)$ sont les coordonnées dans le plan  2d $(u,v)$ et \n",
    "$A$, $B$, $C$, $D$, $E$, $F$ sont les coefficients de la forme quadratique, avec la contrainte $B^2 < 4 AC$ (sinon c'est une hyperbole ou une parabole en cas d'égalité). Sous cette contrainte, il est possible de retrouver toutes les ellipses du plan.\n",
    "Cette forme permet d'estimer facilement l'ellipse en fonction des coordonnées $(x,y)$ de la trajectoire, car l'équation est linéaire \n",
    "par rapport aux coefficients $A$, $B$, $C$, $D$, $E$, $F$ à estimer (plus la contrainte $B^2 -4 AC<0$) (estimation au sens des moindres carrés). On peut alors remonter aux paramètres géométriques et aux coefficients de déséquilibre $a_1,a_2,a_3$ et  $\\phi_1,\\phi_2,\\phi_3$."
   ]
  },
  {
   "cell_type": "markdown",
   "metadata": {},
   "source": [
    "### Modules et fonctions utiles"
   ]
  },
  {
   "cell_type": "code",
   "execution_count": 1,
   "metadata": {},
   "outputs": [],
   "source": [
    "import numpy as np\n",
    "import scipy as sp\n",
    "import scipy.linalg as lin\n",
    "import matplotlib.pyplot as plt\n",
    "import warnings\n",
    "\n",
    "float_formatter = \"{:.4f}\".format\n",
    "np.set_printoptions(formatter={\"float_kind\": float_formatter})\n",
    "\n",
    "# inline plots (change inline to widget to get interactive plots)\n",
    "%matplotlib inline\n",
    "\n",
    "%load_ext autoreload\n",
    "%autoreload 2\n",
    "# fonctions utiles depuis le fichier .py local\n",
    "from ellutils import *"
   ]
  },
  {
   "cell_type": "markdown",
   "metadata": {},
   "source": [
    "## Estimation des paramètres de déséquilibre\n",
    "\n",
    "### 0. Synthèse des signaux"
   ]
  },
  {
   "cell_type": "code",
   "execution_count": 2,
   "metadata": {},
   "outputs": [],
   "source": [
    "n = 600  #  number of samples (Fe= 60Hz)\n",
    "sigma = 1e-2  #  noise std\n",
    "\n",
    "# linear phase theta in [a,b[\n",
    "a = 0\n",
    "b =   2 / 5 * np.pi\n",
    "theta = np.linspace(a, b, n, endpoint=False)\n",
    "\n",
    "\n",
    "#  Paramatres de déséquilibre\n",
    "\n",
    "phi1, phi2, phi3 = 0.2, 0.1, +0.15  # (rad)\n",
    "# phi1, phi2, phi3 = [0, 0, 0]  # (rad)\n",
    "vphi = np.array([phi1, phi2, phi3])\n",
    "a1, a2, a3 = [1.2, 1, 1.5]\n",
    "# a1, a2, a3 = [1, 1, 1]\n",
    "vamp = np.array([a1, a2, a3])\n",
    "tri = 2 / 3 * np.pi  # equi angle (rad) for 3 outputs\n",
    "\n",
    "X, Xwo, theta = gen_3_outputs(vamp, vphi, n, sig=sigma, theta_start=a, theta_end=b)"
   ]
  },
  {
   "cell_type": "markdown",
   "metadata": {},
   "source": [
    "### 1. Estimation du plan de l'ellipse"
   ]
  },
  {
   "cell_type": "markdown",
   "metadata": {},
   "source": [
    "On estime le vecteur normal au plan de l'ellipse par moindres carrés régularisé : $\\min_{\\beta} \\sum_i \\frac{1}{2n}(1 - \\beta_1 p_{1i} - \\beta_2 p_{1i} - \\beta_3 p_{3i})^2 + \\alpha|| \\beta - \\frac{1}{\\sqrt{3}} (1,1,1)^{T} ||^2.$\n",
    "\n",
    "Ceci permet d'obtenir une première solution afin de pondérer et équilibrer les signaux (en supposant les déphasages relatifs nuls, i.e. $\\phi_0=\\phi_1=\\phi_2=0$ ou alors connus), qui peut être déjà suffisamment précise. Cette solution peut aussi servir comme a priori pour régulariser l'estimation de l'ellipse."
   ]
  },
  {
   "cell_type": "code",
   "execution_count": 43,
   "metadata": {},
   "outputs": [
    {
     "name": "stdout",
     "output_type": "stream",
     "text": [
      "true normal vector = [0.5596 0.6715 0.4858]\n",
      "est. normal vector = [0.5648 0.6651 0.4885]\n",
      "true unbalance amp coef = [1.2000 1.0000 1.5000]\n",
      "est. unbalance amp coef = [1.2309 1.0452 1.4229]\n",
      "offset = 2.0855\n"
     ]
    }
   ],
   "source": [
    "# X (regressor) is an n times 3 matrix of hstacked noisy p1, p2, p3\n",
    "# y (target) is an n times 1 constant vector\n",
    "y = np.ones((len(X[:, 0]), 1)) * 3\n",
    "\n",
    "# En pratique ca ne s'avere pas nécessaire de régulariser dans les simus\n",
    "# from sklearn.linear_model import RidgeCV, Ridge, LinearRegression\n",
    "# reg = LinearRegression(fit_intercept=False).fit(X, y)\n",
    "# beta = reg.coef_.reshape((3, 1)) / np.linalg.norm(reg.coef_)\n",
    "beta = lin.pinv(X.T @ X) @ (X.T @ y)\n",
    "vamphat = 1 / beta.ravel()\n",
    "\n",
    "#  Normalize the vector normal to the ellipse plane\n",
    "beta /= np.linalg.norm(beta)\n",
    "offset = np.mean(X @ beta)\n",
    "\n",
    "# Compare with the true one\n",
    "betatrue = get_normal_vect(vamp, vphi)\n",
    "\n",
    "print(f\"true normal vector = {betatrue.ravel()}\")\n",
    "print(f\"est. normal vector = {beta.ravel()}\")\n",
    "print(f\"true unbalance amp coef = {vamp}\")\n",
    "print(f\"est. unbalance amp coef = {vamphat}\")\n",
    "print(\"offset = {:.4f}\".format(offset))"
   ]
  },
  {
   "cell_type": "code",
   "execution_count": 44,
   "metadata": {},
   "outputs": [],
   "source": [
    "Bclarke_ref = np.sqrt(2 / 3) * np.array(\n",
    "    [\n",
    "        [1, -0.5, -0.5],\n",
    "        [0, np.sqrt(3) / 2, -np.sqrt(3) / 2],\n",
    "        [1 / np.sqrt(2), 1 / np.sqrt(2), 1 / np.sqrt(2)],\n",
    "    ]\n",
    ")\n",
    "#  We can recover the above Clarke matrix from the matrix basis in the nominal\n",
    "# case where the outputs are well balanced\n",
    "_, _, _, _, _, Bclarke, _ = param2pol(np.array([1, 1, 1]), np.array([0, 0, 0]))\n",
    "\n",
    "\n",
    "#  Theta estimate w/o any correction (default estimate)\n",
    "z_clarke = Bclarke @ X.T\n",
    "angle_clarke = np.unwrap(np.angle(z_clarke[0, :] - 1j * z_clarke[1, :]))\n",
    "\n",
    "# This estimaye of theta assume that the relative phases are zero: phi1i=0\n",
    "# The amplitude a1, a2, a3 can be estimated as the inverse of the beta entries\n",
    "z_amp_corr = Bclarke @ np.diag(beta.ravel()) @ X.T\n",
    "angle_amp_corr = np.unwrap(np.angle(z_amp_corr[0, :] - 1j * z_amp_corr[1, :]))"
   ]
  },
  {
   "cell_type": "code",
   "execution_count": 45,
   "metadata": {},
   "outputs": [
    {
     "data": {
      "application/vnd.jupyter.widget-view+json": {
       "model_id": "ff7c92ad04ca4fd8a22c8ffd75a93351",
       "version_major": 2,
       "version_minor": 0
      },
      "text/plain": [
       "Canvas(toolbar=Toolbar(toolitems=[('Home', 'Reset original view', 'home', 'home'), ('Back', 'Back to previous …"
      ]
     },
     "metadata": {},
     "output_type": "display_data"
    }
   ],
   "source": [
    "fs = (8, 5)\n",
    "fig, ax = plt.subplots(1, 1, sharex=True, sharey=True, figsize=fs)\n",
    "ax.plot(theta, label=\"true theta\")\n",
    "ax.plot(angle_amp_corr, \":\", linewidth=3, label=\"amplitude corrected est.\")\n",
    "ax.plot(angle_clarke, \"--\", label=\"Clarke est.\")\n",
    "ax.legend()\n",
    "ax.grid(\"on\")"
   ]
  },
  {
   "cell_type": "markdown",
   "metadata": {},
   "source": [
    "It is important to note that when the relative phases $\\phi_1$, $\\phi_2$, $\\phi_3$ are *non-zero but known values*, we can directly obtain a good estimate for the unbalance amplitude parameters $a_1$, $a_2$, $a_3$ and the phase $\\theta$ from the normal vector $\\beta$ (vector orthogonal to the ellipse plane)"
   ]
  },
  {
   "cell_type": "code",
   "execution_count": 46,
   "metadata": {},
   "outputs": [
    {
     "name": "stdout",
     "output_type": "stream",
     "text": [
      "true unbalance amp coef = [1.2000 1.0000 1.5000]\n",
      "est. unbalance amp coef = [1.2309 1.0452 1.4229]\n",
      "est. corrected amp coef = [1.1987 1.0178 1.5039]\n"
     ]
    }
   ],
   "source": [
    "# We detrend the normal vector beta to get the only amplitude parameter ai estimates\n",
    "#  here these amplitudes are defined up to a scaling factor\n",
    "vamp_corr = np.empty(vamp.shape)\n",
    "\n",
    "# Intercept term to adjust\n",
    "scaleamp = (\n",
    "    - 1 / np.sin(phi2 - phi3 - tri)\n",
    "    - 1 / np.sin(phi3 - phi1 - tri)\n",
    "    - 1 / np.sin(phi1 - phi2 - tri)\n",
    ") / 3\n",
    "vamp_corr[0] = -scaleamp * vamphat[0] * np.sin(phi2 - phi3 - tri)\n",
    "vamp_corr[1] = -scaleamp * vamphat[1] * np.sin(phi3 - phi1 - tri)\n",
    "vamp_corr[2] = -scaleamp * vamphat[2] * np.sin(phi1 - phi2 - tri)\n",
    "\n",
    "\n",
    "print(f\"true unbalance amp coef = {vamp}\")\n",
    "print(f\"est. unbalance amp coef = {vamphat}\")\n",
    "print(f\"est. corrected amp coef = {vamp_corr}\")\n",
    "\n",
    "#  We can now derive the phase theta estimate based on the detrend ai estimates\n",
    "angle_corr = pol2theta(*param2pol(vamp_corr, vphi), X)"
   ]
  },
  {
   "cell_type": "code",
   "execution_count": 47,
   "metadata": {},
   "outputs": [
    {
     "data": {
      "application/vnd.jupyter.widget-view+json": {
       "model_id": "5864d9289d5e45f78d5787e12eb407f6",
       "version_major": 2,
       "version_minor": 0
      },
      "text/plain": [
       "Canvas(toolbar=Toolbar(toolitems=[('Home', 'Reset original view', 'home', 'home'), ('Back', 'Back to previous …"
      ]
     },
     "metadata": {},
     "output_type": "display_data"
    }
   ],
   "source": [
    "fs = (8, 5)\n",
    "fig, ax = plt.subplots(1, 1, sharex=True, sharey=True, figsize=fs)\n",
    "ax.plot(theta, \"-\", label=\"true theta\")\n",
    "ax.plot(angle_amp_corr, \":\", linewidth=3, label=\"amplitude corrected est.\")\n",
    "ax.plot(angle_corr, \":\", linewidth=3, label=\"fully corrected est.\")\n",
    "ax.plot(angle_clarke, \"--\", label=\"Clarke est.\")\n",
    "ax.legend()\n",
    "ax.grid(\"on\")"
   ]
  },
  {
   "cell_type": "markdown",
   "metadata": {},
   "source": [
    "### 2. Projection dans le plan estime"
   ]
  },
  {
   "cell_type": "code",
   "execution_count": 48,
   "metadata": {},
   "outputs": [],
   "source": [
    "# Projecteur orthogonal (sur le plan affine)\n",
    "Portho = np.eye(3) - beta @ beta.T\n",
    "Xproj = Portho @ X.T + offset * beta"
   ]
  },
  {
   "cell_type": "code",
   "execution_count": 49,
   "metadata": {},
   "outputs": [],
   "source": [
    "#  Base orthogonale (u,v) du plan de l'ellipse\n",
    "u = Portho[0, :] / np.linalg.norm(Portho[0, :])\n",
    "v = Portho[1, :] - u * np.dot(u, Portho[1, :])\n",
    "v /= np.linalg.norm(v)"
   ]
  },
  {
   "cell_type": "code",
   "execution_count": 50,
   "metadata": {},
   "outputs": [],
   "source": [
    "# Matrice de passage vers la base orthonormale (u,v,beta)\n",
    "Bell = np.vstack((u, v, beta.ravel()))\n",
    "#  Coordonnées dans le plan affine de l'ellipse\n",
    "Y = Bell @ X.T\n",
    "y0 = Y[0, :].T\n",
    "y1 = Y[1, :].T"
   ]
  },
  {
   "cell_type": "code",
   "execution_count": 51,
   "metadata": {},
   "outputs": [
    {
     "data": {
      "application/vnd.jupyter.widget-view+json": {
       "model_id": "09ba88ef525346ff88e35e2ce694b150",
       "version_major": 2,
       "version_minor": 0
      },
      "text/plain": [
       "Canvas(toolbar=Toolbar(toolitems=[('Home', 'Reset original view', 'home', 'home'), ('Back', 'Back to previous …"
      ]
     },
     "metadata": {},
     "output_type": "display_data"
    }
   ],
   "source": [
    "# Visu des echantillons dans le plan estimé\n",
    "fs = (8, 5)\n",
    "fig, ax = plt.subplots(1, 1, sharex=True, sharey=True, figsize=fs)\n",
    "ax.plot(y0, y1, \"x\")\n",
    "ax.grid(\"on\")"
   ]
  },
  {
   "cell_type": "markdown",
   "metadata": {},
   "source": [
    "### 3. Estimation des paramètres de l'ellipse\n",
    "\n",
    "On estime les coefficients de la forme quadratique qui caractérise l'ellipse par moindre carrés régularisés : $\\hat{\\beta}(\\alpha) = \\arg \\min_{\\beta=(a,b,c,d,e)^T} \\sum_i \\frac{1}{2n}(1 - a \n",
    "y_{0i}^2 - b y_{0i}y_{1i} - c y_{1i}^2 - d y_{0i} - e y_{1i} )^2 + \\alpha|| \\beta - \\beta_{\\textrm{prior}} ||^2$. \n",
    "\n",
    "Différents choix possibles pour $\\beta_{\\textrm{prior}}$ \n",
    "- une solution obtenue à partir d'un calibrage préalable\n",
    "- $\\beta_{\\textrm{prior}} = \\frac{p_{\\textrm{in}}}{3}(1,0,1,1,1)^{T}$: solution circulaire qui respecte les contraintes physiques entre amplitudes et offset\n",
    "- une solution obtenue à partir du vecteur orthogonal au plan de l'ellipse (qui respecte les contraintes physiques entre amplitudes et offset), voir ci dessous\n",
    "\n",
    "La régularisation permet de converger vers une solution admissible (elliptique et suffisamment proche des données) en favorisant la solution pour laquelle la contrainte physique (offsets et amplitudes $a_i$ égaux) est la mieux satisfaite. Une solution, peut être plus précise dans les cas difficiles mais aussi plus complexe, serait de prendre en compte cette contrainte non convexe lors de la minimisation (la minimisation à partir de la forme polaire serait dans ce cas plus appropriée)."
   ]
  },
  {
   "cell_type": "code",
   "execution_count": 52,
   "metadata": {},
   "outputs": [],
   "source": [
    "# Prior solution: estimate of the amplitude vamphat which assumes that the \n",
    "# relative phases are zero (phi1=phi2=phi3=0)\n",
    "vphizero= np.zeros(3)\n",
    "beta_prior = pol2quad(*param2pol(vamphat.ravel(), vphizero)[:5])"
   ]
  },
  {
   "cell_type": "code",
   "execution_count": 61,
   "metadata": {},
   "outputs": [
    {
     "name": "stdout",
     "output_type": "stream",
     "text": [
      "shrinkage optimal parameter =0.0012915496650148827\n"
     ]
    },
    {
     "data": {
      "application/vnd.jupyter.widget-view+json": {
       "model_id": "9e13f45e887c4c3b8f2959d16f455a5d",
       "version_major": 2,
       "version_minor": 0
      },
      "text/plain": [
       "Canvas(toolbar=Toolbar(toolitems=[('Home', 'Reset original view', 'home', 'home'), ('Back', 'Back to previous …"
      ]
     },
     "metadata": {},
     "output_type": "display_data"
    }
   ],
   "source": [
    "Xell = np.vstack((y0 ** 2, y0 * y1, y1 ** 2, y0, y1)).T\n",
    "ytarget = np.ones((len(y0), 1))\n",
    "\n",
    "# Scale (standardize) the data\n",
    "Xestd = np.std(Xell, axis=0)  # Xestd[:] = 1\n",
    "Xells = Xell / Xestd\n",
    "U, s, Vh = lin.svd(Xells.T, full_matrices=False)\n",
    "s /= np.sqrt(n)\n",
    "#  Set a circular prior with physically possible offset\n",
    "beta0 = np.ones((5, 1))\n",
    "beta0[1] = 0\n",
    "# Set a \n",
    "beta0 = np.array(beta_prior[:5]).reshape(5, 1)\n",
    "ytarget0 = (ytarget - Xells @ beta0) / np.sqrt(n)\n",
    "# precompute the 5*n products\n",
    "Vy = Vh @ ytarget0\n",
    "\n",
    "\n",
    "def fit_quadcoeff(alpha):\n",
    "    # Shrink the solution towards the prior to regularize the fit\n",
    "    coef_ell = (U * (s / (s ** 2 + alpha))) @ Vy + beta0\n",
    "    # Set the original scale\n",
    "    coef_ell = coef_ell.ravel() / Xestd  # coef A,B,C,D,E\n",
    "    valscore = validation_score(*coef_ell.T, -1, offset, Bell)\n",
    "    return coef_ell, valscore\n",
    "\n",
    "\n",
    "# Shrinkage parameters\n",
    "alphas = np.logspace(-10, 1, num=100)\n",
    "valscore = np.zeros(alphas.shape)\n",
    "for ia, alpha in enumerate(alphas):\n",
    "    coeff, valscore[ia] = fit_quadcoeff(alpha)\n",
    "    # print(f\"alpha={alpha}: valscore={valscore[ia]}\")\n",
    "\n",
    "if np.min(valscore) > 0.25:\n",
    "    warnings.warn(\n",
    "        f\"estimation results for the ellipsis are not consistent with the physical constraints.\\nMismatch = {np.min(valscore)}\",\n",
    "        RuntimeWarning,\n",
    "    )\n",
    "\n",
    "alphaopt = alphas[np.argmin(valscore)]\n",
    "coef_ell, _ = fit_quadcoeff(alphaopt)\n",
    "A, B, C, D, E = coef_ell.T\n",
    "F = -1\n",
    "print(f\"shrinkage optimal parameter ={alphaopt}\")\n",
    "\n",
    "fig, ax = plt.subplots(1, 1, sharex=True, sharey=True, figsize=fs)\n",
    "ax.plot(alphas, valscore, label=\"validation score\")\n",
    "ax.plot(\n",
    "    [alphaopt, alphaopt],\n",
    "    [0, np.max(valscore[np.isfinite(valscore)])],\n",
    "    \"--\", label=\"alpha optimal\",\n",
    ")\n",
    "ax.set_xscale(\"log\")\n",
    "ax.set_ylabel(\"mismatch between offsets and amplitude of the three signals\")\n",
    "ax.set_xlabel(\"regul. coefficient alpha\")\n",
    "ax.legend()\n",
    "ax.grid(\"on\")"
   ]
  },
  {
   "cell_type": "markdown",
   "metadata": {},
   "source": [
    "Ellipsis parameter from quadratic form parameters, see https://en.wikipedia.org/wiki/Ellipse#General_ellipse"
   ]
  },
  {
   "cell_type": "code",
   "execution_count": 54,
   "metadata": {},
   "outputs": [
    {
     "name": "stdout",
     "output_type": "stream",
     "text": [
      "1.7498939982915254 1.3165077961257028 1.0325318178775034 0.045707998415486915 -0.5657893339677208\n"
     ]
    }
   ],
   "source": [
    "a, b, phi, offu, offv = quad2pol(A, B, C, D, E, F)\n",
    "print(a, b, phi, offu, offv)"
   ]
  },
  {
   "cell_type": "markdown",
   "metadata": {},
   "source": [
    "### 4. Visualize the ellipsis fit\n",
    "\n",
    "#### Plots in the estimated ellipsis plane"
   ]
  },
  {
   "cell_type": "code",
   "execution_count": 55,
   "metadata": {},
   "outputs": [],
   "source": [
    "t = np.linspace(0, 2 * np.pi, 512)\n",
    "#  Fit ellipsis on the estimated plane\n",
    "xthat = a * np.cos(t) * np.cos(phi) - b * np.sin(t) * np.sin(phi) + offu\n",
    "ythat = a * np.cos(t) * np.sin(phi) + b * np.sin(t) * np.cos(phi) + offv\n",
    "#  Actual ellipsis (projection on the estimated plane)\n",
    "x1 = a1 * (1 + np.cos(t + phi1))\n",
    "x2 = a2 * (1 + np.cos(t + tri + phi2))\n",
    "x3 = a3 * (1 + np.cos(t - tri + phi3))\n",
    "Xp = Bell @ np.vstack((x1, x2, x3))"
   ]
  },
  {
   "cell_type": "code",
   "execution_count": 56,
   "metadata": {},
   "outputs": [
    {
     "data": {
      "application/vnd.jupyter.widget-view+json": {
       "model_id": "a4994314d0d34da180f0588f6bbd2fbf",
       "version_major": 2,
       "version_minor": 0
      },
      "text/plain": [
       "Canvas(toolbar=Toolbar(toolitems=[('Home', 'Reset original view', 'home', 'home'), ('Back', 'Back to previous …"
      ]
     },
     "metadata": {},
     "output_type": "display_data"
    }
   ],
   "source": [
    "fig, ax = plt.subplots(1, 1, sharex=True, sharey=True, figsize=fs)\n",
    "ax.plot(y0, y1, \"x\", label=\"samples\")\n",
    "ax.plot(Xp[0, :], Xp[1, :], \"--\", color=\"gray\", linewidth=3, label=\"true\")\n",
    "ax.plot(xthat, ythat, \":\", color=\"darkorange\", linewidth=2, label=\"est\")\n",
    "ax.legend()\n",
    "ax.grid(\"on\")\n",
    "# delta = 0.005\n",
    "# xrange = np.arange(-1.0, 1.0, delta)\n",
    "# yrange = np.arange(-1.0, 1.0, delta)\n",
    "# XX, YY = np.meshgrid(xrange, yrange)\n",
    "# ax.contour(XX, YY, A * XX ** 2 + B * XX * YY + C * YY ** 2 + D * XX + E * YY + F, [0])"
   ]
  },
  {
   "cell_type": "markdown",
   "metadata": {},
   "source": [
    "#### Plots in the 3D signal coordinates"
   ]
  },
  {
   "cell_type": "code",
   "execution_count": 57,
   "metadata": {},
   "outputs": [
    {
     "data": {
      "application/vnd.jupyter.widget-view+json": {
       "model_id": "041d980b2bfa40079cda8a00ac61e636",
       "version_major": 2,
       "version_minor": 0
      },
      "text/plain": [
       "Canvas(toolbar=Toolbar(toolitems=[('Home', 'Reset original view', 'home', 'home'), ('Back', 'Back to previous …"
      ]
     },
     "metadata": {},
     "output_type": "display_data"
    }
   ],
   "source": [
    "from mpl_toolkits import mplot3d\n",
    "\n",
    "fig, ax = plt.subplots(1, 1, sharex=True, sharey=True, figsize=fs)\n",
    "ax = plt.axes(projection=\"3d\")\n",
    "# Data for a three-dimensional line\n",
    "ax.plot3D(X[:, 0], X[:, 1], X[:, 2], \"x\")\n",
    "ax.plot3D(x1, x2, x3, \"--\", color=\"gray\", linewidth=3)\n",
    "x3dhat = (\n",
    "    u.reshape((-1, 1)) @ xthat.reshape((1, -1))\n",
    "    + v.reshape((-1, 1)) @ ythat.reshape((1, -1))\n",
    "    + offset * beta\n",
    ")\n",
    "ax.plot3D(\n",
    "    x3dhat[0, :], x3dhat[1, :], x3dhat[2, :], \":\", color=\"darkorange\", linewidth=2\n",
    ")\n",
    "plt.show()"
   ]
  },
  {
   "cell_type": "markdown",
   "metadata": {},
   "source": [
    "### 5. Calcul des paramètres de déséquilibre\n",
    "Les paramètres de l'ellipse nous donnent directement les déséquilibres de puissance et de phase"
   ]
  },
  {
   "cell_type": "code",
   "execution_count": 58,
   "metadata": {},
   "outputs": [
    {
     "name": "stdout",
     "output_type": "stream",
     "text": [
      "actual relative power = [1.2, 1, 1.5]\n",
      "est of relative power = [1.1909 1.0329 1.5199]\n",
      "actual relative phases = [0.2, 0.1, 0.15]\n",
      "est of relative phases = [0.2000 0.0918 0.1622]\n"
     ]
    }
   ],
   "source": [
    "modpower, phases, phase0 = pol2balance(a, b, phi, Bell, phaseref=phi1)\n",
    "print(f\"actual relative power = {[a1, a2, a3]}\")\n",
    "print(f\"est of relative power = {modpower}\")\n",
    "diffphases = subsangle(np.array([0, tri, -tri]), phases)\n",
    "print(f\"actual relative phases = {[phi1, phi2, phi3]}\")\n",
    "print(f\"est of relative phases = {diffphases.ravel()}\")\n"
   ]
  },
  {
   "cell_type": "markdown",
   "metadata": {},
   "source": [
    "### 6. Estimateurs du déphasage $\\theta$ avec ou sans correction"
   ]
  },
  {
   "cell_type": "code",
   "execution_count": 59,
   "metadata": {},
   "outputs": [
    {
     "name": "stdout",
     "output_type": "stream",
     "text": [
      "RMS for the balanced estimator = 0.0147\n",
      "RMS for the direct (unbalanced) estimator = 0.3361\n"
     ]
    }
   ],
   "source": [
    "thetahat = pol2theta(a, b, phi, offu, offv, Bell, phase0, X)\n",
    "rms = np.sqrt(np.mean(subsangle(thetahat.ravel(), theta.ravel()) ** 2))\n",
    "print(\"RMS for the balanced estimator = {:.4f}\".format(rms))\n",
    "\n",
    "#  Clarke transform to estimate the phase (w/o the balance correction)\n",
    "xalpha = X[:, 0] - 0.5 * X[:, 1] - 0.5 * X[:, 2]\n",
    "xbeta = np.sqrt(3) / 2 * (X[:, 1] - X[:, 2])\n",
    "thetaunbal = np.angle(xalpha.ravel() + 1j * xbeta.ravel())\n",
    "thetaunbal = np.unwrap(thetaunbal)\n",
    "rmsunbal = np.sqrt(np.mean(subsangle(-thetaunbal, theta) ** 2))\n",
    "print(\"RMS for the direct (unbalanced) estimator = {:.4f}\".format(rmsunbal))"
   ]
  },
  {
   "cell_type": "code",
   "execution_count": 63,
   "metadata": {},
   "outputs": [
    {
     "data": {
      "application/vnd.jupyter.widget-view+json": {
       "model_id": "30894a4274de4f018bab461b5bb61c76",
       "version_major": 2,
       "version_minor": 0
      },
      "text/plain": [
       "Canvas(toolbar=Toolbar(toolitems=[('Home', 'Reset original view', 'home', 'home'), ('Back', 'Back to previous …"
      ]
     },
     "metadata": {},
     "output_type": "display_data"
    }
   ],
   "source": [
    "fig, ax = plt.subplots(1, 1, sharex=True, sharey=True, figsize=fs)\n",
    "ax.plot(theta, label=\"true\")\n",
    "ax.plot(thetahat, \":\", linewidth=3, label=\"est. with balance correction\")\n",
    "ax.plot(-thetaunbal, \"--\", linewidth=3, label=\"est. w/o balance correction\")\n",
    "ax.set_ylabel(\"radian\")\n",
    "ax.set_xlabel(\"sample\")\n",
    "ax.legend()\n",
    "ax.grid(\"on\")"
   ]
  },
  {
   "cell_type": "code",
   "execution_count": null,
   "metadata": {},
   "outputs": [],
   "source": []
  }
 ],
 "metadata": {
  "kernelspec": {
   "display_name": "Python [conda env:calc]",
   "language": "python",
   "name": "conda-env-calc-py"
  },
  "language_info": {
   "codemirror_mode": {
    "name": "ipython",
    "version": 3
   },
   "file_extension": ".py",
   "mimetype": "text/x-python",
   "name": "python",
   "nbconvert_exporter": "python",
   "pygments_lexer": "ipython3",
   "version": "3.7.9"
  },
  "widgets": {
   "application/vnd.jupyter.widget-state+json": {
    "state": {},
    "version_major": 2,
    "version_minor": 0
   }
  }
 },
 "nbformat": 4,
 "nbformat_minor": 4
}
