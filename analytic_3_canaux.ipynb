{
 "cells": [
  {
   "cell_type": "markdown",
   "metadata": {},
   "source": [
    "# Calibration des paramètres d'un MZI à 3 sorties\n",
    "\n",
    "##  Modèle Physique\n",
    "\n",
    "### Equation de la puissance en sortie du MZI en fonction du déphasage\n",
    "\n",
    "On note $p_{\\textrm{in}}$  la puissance du laser en entrée du MZI, et $\\theta(t)$ le déphasage mesuré par le MZI. \n",
    "\n",
    "- 3 sorties déphasées de $2\\pi/3$, dans ce ce cas les puissances sont de la forme:\n",
    "$$\n",
    "p_1(\\theta) = a_1 \\frac{p_{\\textrm{in}}}{3} \\left(1 + \\textrm{cos}(\\theta + \\phi_1) \\right),\\\\\n",
    "p_2(\\theta) = a_2 \\frac{p_{\\textrm{in}}}{3} \\left(1 + \\textrm{cos}(\\theta + 2\\pi/3 + \\phi_2)\\right),\\\\\n",
    "p_3(\\theta) = a_3 \\frac{p_{\\textrm{in}}}{3} \\left(1 + \\textrm{cos}(\\theta - 2\\pi/3 + \\phi_3)\\right),\n",
    "$$\n",
    "et $a_1$, $a_2$ et $a_3$, respectivement $\\phi_1$, $\\phi_2$ et $\\phi_3$,  décrivent le deséquilibre de puissance, respectivement de phase, entre les différentes sorties à cause des imperfections des miroirs et lames semi-réfléchissantes (dans le cas idéal $a_1=a_2=a_3=1$ et $\\phi_1=\\phi_2=\\phi_3=0$).\n",
    "\n",
    "### Modèle d'observation\n",
    "\n",
    "On dispose d'un détecteur optique pour chaque sortie. \n",
    "Dans le cas général, la mesure obtenue sur chaque détecteur est de la forme: \n",
    "$$\n",
    "y_i = c_i (p_i(\\theta) + \\epsilon_i) + o_i,\n",
    "$$\n",
    "où $c_i$ est le gain du détecteur associé à la sortie $i$, $o_i$ est l'offset associé et  $\\epsilon_i$ est le bruit d'observation.\n",
    "\n",
    "### Hypothèses\n",
    "\n",
    "\n",
    "- La puissance du laser en entrée est telle que $\\frac{p_{\\textrm{in}}}{3}=1$ (sans perte de généralité, car ce facteur serait pris en compte dans l'estimation des puissances de chaque sortie et ne modifie pas l'estimation du déséquilibre relatif ni sa correction). \n",
    "- On peut aussi supposer $c_1=c_2=c_3=1$, quitte à les prendre en compte dans les déséquilibres $a_1$,$a_2$ et $a_3$\n",
    "- On suppose que les offsets $o_i$ sont connus, et on peut alors fixer $o_1=o_2=o_3=0$. En pratique, s'ils ne sont pas connus mais identiques $o_1=o_2=o_3=o$ ce qui semble réaliste d'après les données étudiées par Simon, il faudrait observer un déphasage d'un tiers de tour au minimum pour estimer cet offset, séparement de l'estimation des facteurs déséquilibres (en cherchant par exemple le minimum de puissance sur toutes les sorties).\n",
    "\n",
    "Le modèle que l'on considère maintenant se ramène donc à\n",
    "\n",
    "$$y_i(\\theta) = p_i(\\theta) + \\epsilon_i,$$\n",
    "où les puissances $p_i(\\theta)$ pour chaque sortie $i=1,2,3$ sont données ci-dessus, et  le bruit  $\\epsilon_i$ est supposé i.i.d de variance $\\sigma^2$. \n",
    "\n",
    "### Quelques rappels sur les ellipses\n",
    "\n",
    "Le vecteur 3d $(y_1(\\theta), y_2(\\theta), y_3(\\theta))$, tel que définit ci dessus,  décrit une trajectoire paramétrée par $\\theta$ qui est centrée autour d'une ellipse dans un plan 2d. Dans le cas où les signaux sont équilibrés $(a_1=a_2=a_3$ et $\\phi_1=\\phi_2=\\phi_3=0)$ cette ellipse devient un cercle paramétré  comme $A(\\cos(\\theta), \\sin(\\theta)) + (o1,o2)$ dans son plan, ce qui permet de retrouver directement le déphasage $\\theta$. Dans le cas général où les signaux sont mal équilibrés, estimer les paramètres de l'ellipse permet de remonter aux coefficients de déséquilibre $a_1,a_2,a_3$, $\\phi_1,\\phi_2,\\phi_3$ et de les compenser pour obtenir une estimation consistante \n",
    "de $\\theta$.\n",
    "\n",
    "Plusieurs paramétrisation/représentation d'une ellipse peuvent alors être utiles\n",
    "\n",
    "1. la forme *paramétrique* 3d en fonction de $\\theta$:\n",
    "\\begin{align*}\n",
    "p_1(\\theta) &= a_1  \\left(1 + \\textrm{cos}(\\theta + \\phi_1) \\right),\\\\\n",
    "p_2(\\theta) &= a_2 \\left(1 + \\textrm{cos}(\\theta + 2\\pi/3 + \\phi_2)\\right),\\\\\n",
    "p_3(\\theta) &= a_3  \\left(1 + \\textrm{cos}(\\theta - 2\\pi/3 + \\phi_3)\\right).\n",
    "\\end{align*}\n",
    "Cette forme correspond au modèle d'observation. On peut vérifier que l'ellipse \n",
    "est définie dans la plan orthogonal au vecteur suivant\n",
    "$$\n",
    "\\beta =  \\left( \\tfrac{\\sin{\\left(\\phi_2 - \\phi_3 - 2\\pi/3\\right)}} { a_1},\n",
    "\\tfrac{\\sin{\\left(\\phi_3 - \\phi_1 - 2\\pi/3\\right)}} { a_2},\n",
    "\\tfrac{\\sin{\\left(\\phi_1 - \\phi_2 - 2\\pi/3\\right)}} { a_3}\\right)^T,\n",
    "$$\n",
    "et les paramètres géométriques de l'ellipse dans son plan (petit et grand axes, orientation, centre)  peuvent \n",
    "se déduire des coefficients de déséquilibre $a_1,a_2,a_3$ et  $\\phi_1,\\phi_2,\\phi_3$\n",
    "\n",
    "2. la forme géométrique, ou *polaire*, de l'ellipse. Dans la base orthonormale $(u,v)$ du plan 2d où elle est définie, l'ellipse peut se paramétrer comme \n",
    "$$\n",
    "\\begin{pmatrix}\n",
    "x\\\\\n",
    "y\n",
    "\\end{pmatrix} = \n",
    "\\begin{pmatrix}\n",
    "\\cos \\phi & - \\sin \\phi \\\\\n",
    " \\sin \\phi & \\cos \\phi\n",
    "\\end{pmatrix} \n",
    "\\begin{pmatrix}\n",
    "a & 0 \\\\\n",
    " 0 & b\n",
    "\\end{pmatrix} \n",
    "\\begin{pmatrix}\n",
    "\\cos \\theta\\\\\n",
    "\\sin \\theta\n",
    "\\end{pmatrix}\n",
    "+\n",
    "\\begin{pmatrix}\n",
    "o_u\\\\\n",
    "o_v\n",
    "\\end{pmatrix},\n",
    "$$\n",
    "où $(x,y)$ sont les coordonnées dans le plan $(u,v)$, et $R_\\phi$ est la matrice de rotation d'angle $\\phi$.\n",
    "Cette forme permet de retrouver directement les paramètres géométriques de l'ellipse : $a$ et $b$ sont les longueurs de ses grands et petits axes, $\\phi$ son orientation, $(o_u,p_v)$ son centre. Cette forme permet également de retrouver directement la valeur \n",
    "de la phase $\\theta$ en exprimant le signal bivarié (c'est le signal analytique) $(\\cos \\theta, \\sin \\theta)$ à partir des coordinées $(x,y)$ de la trajectoire 2d.\n",
    "\n",
    "3. La forme *quadratique* définit par l'équation implicite dans le plan 2d :\n",
    "$$Ax^2 +B xy +C y^2 +Dx+Ey +F =0,$$ où $(x,y)$ sont les coordonnées dans le plan  2d $(u,v)$ et \n",
    "$A$, $B$, $C$, $D$, $E$, $F$ sont les coefficients de la forme quadratique, avec la contrainte $B^2 < 4 AC$ (sinon c'est une hyperbole ou une parabole en cas d'égalité). Sous cette contrainte, il est possible de retrouver toutes les ellipses du plan.\n",
    "Cette forme permet d'estimer facilement l'ellipse en fonction des coordonnées $(x,y)$ de la trajectoire, car l'équation est linéaire \n",
    "par rapport aux coefficients $A$, $B$, $C$, $D$, $E$, $F$ à estimer (plus la contrainte $B^2 -4 AC<0$) (estimation au sens des moindres carrés). On peut alors remonter aux paramètres géométriques et aux coefficients de déséquilibre $a_1,a_2,a_3$ et  $\\phi_1,\\phi_2,\\phi_3$."
   ]
  },
  {
   "cell_type": "markdown",
   "metadata": {},
   "source": [
    "### Modules et fonctions utiles"
   ]
  },
  {
   "cell_type": "code",
   "execution_count": 41,
   "metadata": {},
   "outputs": [
    {
     "name": "stdout",
     "output_type": "stream",
     "text": [
      "The autoreload extension is already loaded. To reload it, use:\n",
      "  %reload_ext autoreload\n"
     ]
    }
   ],
   "source": [
    "import numpy as np\n",
    "import scipy as sp\n",
    "import scipy.linalg as lin\n",
    "import matplotlib.pyplot as plt\n",
    "import warnings\n",
    "\n",
    "float_formatter = \"{:.4f}\".format\n",
    "np.set_printoptions(formatter={\"float_kind\": float_formatter})\n",
    "\n",
    "%matplotlib widget\n",
    "\n",
    "%load_ext autoreload\n",
    "%autoreload 2\n",
    "# fonctions utiles depuis le fichier .py local\n",
    "from ellutils import *"
   ]
  },
  {
   "cell_type": "markdown",
   "metadata": {},
   "source": [
    "## Estimation des paramètres de déséquilibre\n",
    "\n",
    "### 0. Synthèse des signaux"
   ]
  },
  {
   "cell_type": "code",
   "execution_count": 42,
   "metadata": {},
   "outputs": [],
   "source": [
    "n = 600  #  number of samples (Fe= 60Hz)\n",
    "sigma = 1e-2  #  noise std\n",
    "\n",
    "# linear phase theta in [a,b[\n",
    "a = 0\n",
    "b =   2 / 5 * np.pi\n",
    "theta = np.linspace(a, b, n, endpoint=False)\n",
    "\n",
    "\n",
    "#  Paramatres de déséquilibre\n",
    "\n",
    "phi1, phi2, phi3 = 0.2, 0.1, +0.15  # (rad)\n",
    "# phi1, phi2, phi3 = [0, 0, 0]  # (rad)\n",
    "vphi = np.array([phi1, phi2, phi3])\n",
    "a1, a2, a3 = [1.2, 1, 1.5]\n",
    "# a1, a2, a3 = [1, 1, 1]\n",
    "vamp = np.array([a1, a2, a3])\n",
    "tri = 2 / 3 * np.pi  # equi angle (rad) for 3 outputs\n",
    "\n",
    "X, Xwo, theta = gen_3_outputs(vamp, vphi, n, sig=sigma, theta_start=a, theta_end=b)"
   ]
  },
  {
   "cell_type": "markdown",
   "metadata": {},
   "source": [
    "### 1. Estimation du plan de l'ellipse"
   ]
  },
  {
   "cell_type": "markdown",
   "metadata": {},
   "source": [
    "On estime le vecteur normal au plan de l'ellipse par moindres carrés régularisé : $\\min_{\\beta} \\sum_i \\frac{1}{2n}(1 - \\beta_1 p_{1i} - \\beta_2 p_{1i} - \\beta_3 p_{3i})^2 + \\alpha|| \\beta - \\frac{1}{\\sqrt{3}} (1,1,1)^{T} ||^2.$\n",
    "\n",
    "Ceci permet d'obtenir une première solution afin de pondérer et équilibrer les signaux (en supposant les déphasages relatifs nuls, i.e. $\\phi_0=\\phi_1=\\phi_2=0$ ou alors connus), qui peut être déjà suffisamment précise. Cette solution peut aussi servir comme a priori pour régulariser l'estimation de l'ellipse."
   ]
  },
  {
   "cell_type": "code",
   "execution_count": 43,
   "metadata": {},
   "outputs": [
    {
     "name": "stdout",
     "output_type": "stream",
     "text": [
      "true normal vector = [0.5596 0.6715 0.4858]\n",
      "est. normal vector = [0.5648 0.6651 0.4885]\n",
      "true unbalance amp coef = [1.2000 1.0000 1.5000]\n",
      "est. unbalance amp coef = [1.2309 1.0452 1.4229]\n",
      "offset = 2.0855\n"
     ]
    }
   ],
   "source": [
    "# X (regressor) is an n times 3 matrix of hstacked noisy p1, p2, p3\n",
    "# y (target) is an n times 1 constant vector\n",
    "y = np.ones((len(X[:, 0]), 1)) * 3\n",
    "\n",
    "# En pratique ca ne s'avere pas nécessaire de régulariser dans les simus\n",
    "# from sklearn.linear_model import RidgeCV, Ridge, LinearRegression\n",
    "# reg = LinearRegression(fit_intercept=False).fit(X, y)\n",
    "# beta = reg.coef_.reshape((3, 1)) / np.linalg.norm(reg.coef_)\n",
    "beta = lin.pinv(X.T @ X) @ (X.T @ y)\n",
    "vamphat = 1 / beta.ravel()\n",
    "\n",
    "#  Normalize the vector normal to the ellipse plane\n",
    "beta /= np.linalg.norm(beta)\n",
    "offset = np.mean(X @ beta)\n",
    "\n",
    "# Compare with the true one\n",
    "betatrue = get_normal_vect(vamp, vphi)\n",
    "\n",
    "print(f\"true normal vector = {betatrue.ravel()}\")\n",
    "print(f\"est. normal vector = {beta.ravel()}\")\n",
    "print(f\"true unbalance amp coef = {vamp}\")\n",
    "print(f\"est. unbalance amp coef = {vamphat}\")\n",
    "print(\"offset = {:.4f}\".format(offset))"
   ]
  },
  {
   "cell_type": "code",
   "execution_count": 44,
   "metadata": {},
   "outputs": [],
   "source": [
    "Bclarke_ref = np.sqrt(2 / 3) * np.array(\n",
    "    [\n",
    "        [1, -0.5, -0.5],\n",
    "        [0, np.sqrt(3) / 2, -np.sqrt(3) / 2],\n",
    "        [1 / np.sqrt(2), 1 / np.sqrt(2), 1 / np.sqrt(2)],\n",
    "    ]\n",
    ")\n",
    "#  We can recover the above Clarke matrix from the matrix basis in the nominal\n",
    "# case where the outputs are well balanced\n",
    "_, _, _, _, _, Bclarke, _ = param2pol(np.array([1, 1, 1]), np.array([0, 0, 0]))\n",
    "\n",
    "\n",
    "#  Theta estimate w/o any correction (default estimate)\n",
    "z_clarke = Bclarke @ X.T\n",
    "angle_clarke = np.unwrap(np.angle(z_clarke[0, :] - 1j * z_clarke[1, :]))\n",
    "\n",
    "# This estimaye of theta assume that the relative phases are zero: phi1i=0\n",
    "# The amplitude a1, a2, a3 can be estimated as the inverse of the beta entries\n",
    "z_amp_corr = Bclarke @ np.diag(beta.ravel()) @ X.T\n",
    "angle_amp_corr = np.unwrap(np.angle(z_amp_corr[0, :] - 1j * z_amp_corr[1, :]))"
   ]
  },
  {
   "cell_type": "code",
   "execution_count": 45,
   "metadata": {},
   "outputs": [
    {
     "data": {
      "application/vnd.jupyter.widget-view+json": {
       "model_id": "ff7c92ad04ca4fd8a22c8ffd75a93351",
       "version_major": 2,
       "version_minor": 0
      },
      "text/plain": [
       "Canvas(toolbar=Toolbar(toolitems=[('Home', 'Reset original view', 'home', 'home'), ('Back', 'Back to previous …"
      ]
     },
     "metadata": {},
     "output_type": "display_data"
    }
   ],
   "source": [
    "fs = (8, 5)\n",
    "fig, ax = plt.subplots(1, 1, sharex=True, sharey=True, figsize=fs)\n",
    "ax.plot(theta, label=\"true theta\")\n",
    "ax.plot(angle_amp_corr, \":\", linewidth=3, label=\"amplitude corrected est.\")\n",
    "ax.plot(angle_clarke, \"--\", label=\"Clarke est.\")\n",
    "ax.legend()\n",
    "ax.grid(\"on\")"
   ]
  },
  {
   "cell_type": "markdown",
   "metadata": {},
   "source": [
    "It is important to note that when the relative phases $\\phi_1$, $\\phi_2$, $\\phi_3$ are *non-zero but known values*, we can directly obtain a good estimate for the unbalance amplitude parameters $a_1$, $a_2$, $a_3$ and the phase $\\theta$ from the normal vector $\\beta$ (vector orthogonal to the ellipse plane)"
   ]
  },
  {
   "cell_type": "code",
   "execution_count": 46,
   "metadata": {},
   "outputs": [
    {
     "name": "stdout",
     "output_type": "stream",
     "text": [
      "true unbalance amp coef = [1.2000 1.0000 1.5000]\n",
      "est. unbalance amp coef = [1.2309 1.0452 1.4229]\n",
      "est. corrected amp coef = [1.1987 1.0178 1.5039]\n"
     ]
    }
   ],
   "source": [
    "# We detrend the normal vector beta to get the only amplitude parameter ai estimates\n",
    "#  here these amplitudes are defined up to a scaling factor\n",
    "vamp_corr = np.empty(vamp.shape)\n",
    "\n",
    "# Intercept term to adjust\n",
    "scaleamp = (\n",
    "    - 1 / np.sin(phi2 - phi3 - tri)\n",
    "    - 1 / np.sin(phi3 - phi1 - tri)\n",
    "    - 1 / np.sin(phi1 - phi2 - tri)\n",
    ") / 3\n",
    "vamp_corr[0] = -scaleamp * vamphat[0] * np.sin(phi2 - phi3 - tri)\n",
    "vamp_corr[1] = -scaleamp * vamphat[1] * np.sin(phi3 - phi1 - tri)\n",
    "vamp_corr[2] = -scaleamp * vamphat[2] * np.sin(phi1 - phi2 - tri)\n",
    "\n",
    "\n",
    "print(f\"true unbalance amp coef = {vamp}\")\n",
    "print(f\"est. unbalance amp coef = {vamphat}\")\n",
    "print(f\"est. corrected amp coef = {vamp_corr}\")\n",
    "\n",
    "#  We can now derive the phase theta estimate based on the detrend ai estimates\n",
    "angle_corr = pol2theta(*param2pol(vamp_corr, vphi), X)"
   ]
  },
  {
   "cell_type": "code",
   "execution_count": 47,
   "metadata": {},
   "outputs": [
    {
     "data": {
      "application/vnd.jupyter.widget-view+json": {
       "model_id": "5864d9289d5e45f78d5787e12eb407f6",
       "version_major": 2,
       "version_minor": 0
      },
      "text/plain": [
       "Canvas(toolbar=Toolbar(toolitems=[('Home', 'Reset original view', 'home', 'home'), ('Back', 'Back to previous …"
      ]
     },
     "metadata": {},
     "output_type": "display_data"
    }
   ],
   "source": [
    "fs = (8, 5)\n",
    "fig, ax = plt.subplots(1, 1, sharex=True, sharey=True, figsize=fs)\n",
    "ax.plot(theta, \"-\", label=\"true theta\")\n",
    "ax.plot(angle_amp_corr, \":\", linewidth=3, label=\"amplitude corrected est.\")\n",
    "ax.plot(angle_corr, \":\", linewidth=3, label=\"fully corrected est.\")\n",
    "ax.plot(angle_clarke, \"--\", label=\"Clarke est.\")\n",
    "ax.legend()\n",
    "ax.grid(\"on\")"
   ]
  },
  {
   "cell_type": "markdown",
   "metadata": {},
   "source": [
    "### 2. Projection dans le plan estime"
   ]
  },
  {
   "cell_type": "code",
   "execution_count": 48,
   "metadata": {},
   "outputs": [],
   "source": [
    "# Projecteur orthogonal (sur le plan affine)\n",
    "Portho = np.eye(3) - beta @ beta.T\n",
    "Xproj = Portho @ X.T + offset * beta"
   ]
  },
  {
   "cell_type": "code",
   "execution_count": 49,
   "metadata": {},
   "outputs": [],
   "source": [
    "#  Base orthogonale (u,v) du plan de l'ellipse\n",
    "u = Portho[0, :] / np.linalg.norm(Portho[0, :])\n",
    "v = Portho[1, :] - u * np.dot(u, Portho[1, :])\n",
    "v /= np.linalg.norm(v)"
   ]
  },
  {
   "cell_type": "code",
   "execution_count": 50,
   "metadata": {},
   "outputs": [],
   "source": [
    "# Matrice de passage vers la base orthonormale (u,v,beta)\n",
    "Bell = np.vstack((u, v, beta.ravel()))\n",
    "#  Coordonnées dans le plan affine de l'ellipse\n",
    "Y = Bell @ X.T\n",
    "y0 = Y[0, :].T\n",
    "y1 = Y[1, :].T"
   ]
  },
  {
   "cell_type": "code",
   "execution_count": 51,
   "metadata": {},
   "outputs": [
    {
     "data": {
      "application/vnd.jupyter.widget-view+json": {
       "model_id": "09ba88ef525346ff88e35e2ce694b150",
       "version_major": 2,
       "version_minor": 0
      },
      "text/plain": [
       "Canvas(toolbar=Toolbar(toolitems=[('Home', 'Reset original view', 'home', 'home'), ('Back', 'Back to previous …"
      ]
     },
     "metadata": {},
     "output_type": "display_data"
    }
   ],
   "source": [
    "# Visu des echantillons dans le plan estimé\n",
    "fs = (8, 5)\n",
    "fig, ax = plt.subplots(1, 1, sharex=True, sharey=True, figsize=fs)\n",
    "ax.plot(y0, y1, \"x\")\n",
    "ax.grid(\"on\")"
   ]
  },
  {
   "cell_type": "markdown",
   "metadata": {},
   "source": [
    "### 3. Estimation des paramètres de l'ellipse\n",
    "\n",
    "On estime les coefficients de la forme quadratique qui caractérise l'ellipse par moindre carrés régularisés : $\\hat{\\beta}(\\alpha) = \\arg \\min_{\\beta=(a,b,c,d,e)^T} \\sum_i \\frac{1}{2n}(1 - a \n",
    "y_{0i}^2 - b y_{0i}y_{1i} - c y_{1i}^2 - d y_{0i} - e y_{1i} )^2 + \\alpha|| \\beta - \\beta_{\\textrm{prior}} ||^2$. \n",
    "\n",
    "Différents choix possibles pour $\\beta_{\\textrm{prior}}$ \n",
    "- une solution obtenue à partir d'un calibrage préalable\n",
    "- $\\beta_{\\textrm{prior}} = \\frac{p_{\\textrm{in}}}{3}(1,0,1,1,1)^{T}$: solution circulaire qui respecte les contraintes physiques entre amplitudes et offset\n",
    "- une solution obtenue à partir du vecteur orthogonal au plan de l'ellipse (qui respecte les contraintes physiques entre amplitudes et offset), voir ci dessous\n",
    "\n",
    "La régularisation permet de converger vers une solution admissible (elliptique et suffisamment proche des données) en favorisant la solution pour laquelle la contrainte physique (offsets et amplitudes $a_i$ égaux) est la mieux satisfaite. Une solution, peut être plus précise dans les cas difficiles mais aussi plus complexe, serait de prendre en compte cette contrainte non convexe lors de la minimisation (la minimisation à partir de la forme polaire serait dans ce cas plus appropriée)."
   ]
  },
  {
   "cell_type": "code",
   "execution_count": 52,
   "metadata": {},
   "outputs": [],
   "source": [
    "# Prior solution: estimate of the amplitude vamphat which assumes that the \n",
    "# relative phases are zero (phi1=phi2=phi3=0)\n",
    "vphizero= np.zeros(3)\n",
    "beta_prior = pol2quad(*param2pol(vamphat.ravel(), vphizero)[:5])"
   ]
  },
  {
   "cell_type": "code",
   "execution_count": 61,
   "metadata": {},
   "outputs": [
    {
     "name": "stdout",
     "output_type": "stream",
     "text": [
      "shrinkage optimal parameter =0.0012915496650148827\n"
     ]
    },
    {
     "data": {
      "application/vnd.jupyter.widget-view+json": {
       "model_id": "9e13f45e887c4c3b8f2959d16f455a5d",
       "version_major": 2,
       "version_minor": 0
      },
      "text/plain": [
       "Canvas(toolbar=Toolbar(toolitems=[('Home', 'Reset original view', 'home', 'home'), ('Back', 'Back to previous …"
      ]
     },
     "metadata": {},
     "output_type": "display_data"
    }
   ],
   "source": [
    "Xell = np.vstack((y0 ** 2, y0 * y1, y1 ** 2, y0, y1)).T\n",
    "ytarget = np.ones((len(y0), 1))\n",
    "\n",
    "# Scale (standardize) the data\n",
    "Xestd = np.std(Xell, axis=0)  # Xestd[:] = 1\n",
    "Xells = Xell / Xestd\n",
    "U, s, Vh = lin.svd(Xells.T, full_matrices=False)\n",
    "s /= np.sqrt(n)\n",
    "#  Set a circular prior with physically possible offset\n",
    "beta0 = np.ones((5, 1))\n",
    "beta0[1] = 0\n",
    "# Set a \n",
    "beta0 = np.array(beta_prior[:5]).reshape(5, 1)\n",
    "ytarget0 = (ytarget - Xells @ beta0) / np.sqrt(n)\n",
    "# precompute the 5*n products\n",
    "Vy = Vh @ ytarget0\n",
    "\n",
    "\n",
    "def fit_quadcoeff(alpha):\n",
    "    # Shrink the solution towards the prior to regularize the fit\n",
    "    coef_ell = (U * (s / (s ** 2 + alpha))) @ Vy + beta0\n",
    "    # Set the original scale\n",
    "    coef_ell = coef_ell.ravel() / Xestd  # coef A,B,C,D,E\n",
    "    valscore = validation_score(*coef_ell.T, -1, offset, Bell)\n",
    "    return coef_ell, valscore\n",
    "\n",
    "\n",
    "# Shrinkage parameters\n",
    "alphas = np.logspace(-10, 1, num=100)\n",
    "valscore = np.zeros(alphas.shape)\n",
    "for ia, alpha in enumerate(alphas):\n",
    "    coeff, valscore[ia] = fit_quadcoeff(alpha)\n",
    "    # print(f\"alpha={alpha}: valscore={valscore[ia]}\")\n",
    "\n",
    "if np.min(valscore) > 0.25:\n",
    "    warnings.warn(\n",
    "        f\"estimation results for the ellipsis are not consistent with the physical constraints.\\nMismatch = {np.min(valscore)}\",\n",
    "        RuntimeWarning,\n",
    "    )\n",
    "\n",
    "alphaopt = alphas[np.argmin(valscore)]\n",
    "coef_ell, _ = fit_quadcoeff(alphaopt)\n",
    "A, B, C, D, E = coef_ell.T\n",
    "F = -1\n",
    "print(f\"shrinkage optimal parameter ={alphaopt}\")\n",
    "\n",
    "fig, ax = plt.subplots(1, 1, sharex=True, sharey=True, figsize=fs)\n",
    "ax.plot(alphas, valscore, label=\"validation score\")\n",
    "ax.plot(\n",
    "    [alphaopt, alphaopt],\n",
    "    [0, np.max(valscore[np.isfinite(valscore)])],\n",
    "    \"--\", label=\"alpha optimal\",\n",
    ")\n",
    "ax.set_xscale(\"log\")\n",
    "ax.set_ylabel(\"mismatch between offsets and amplitude of the three signals\")\n",
    "ax.set_xlabel(\"regul. coefficient alpha\")\n",
    "ax.legend()\n",
    "ax.grid(\"on\")"
   ]
  },
  {
   "cell_type": "markdown",
   "metadata": {},
   "source": [
    "Ellipsis parameter from quadratic form parameters, see https://en.wikipedia.org/wiki/Ellipse#General_ellipse"
   ]
  },
  {
   "cell_type": "code",
   "execution_count": 54,
   "metadata": {},
   "outputs": [
    {
     "name": "stdout",
     "output_type": "stream",
     "text": [
      "1.7498939982915254 1.3165077961257028 1.0325318178775034 0.045707998415486915 -0.5657893339677208\n"
     ]
    }
   ],
   "source": [
    "a, b, phi, offu, offv = quad2pol(A, B, C, D, E, F)\n",
    "print(a, b, phi, offu, offv)"
   ]
  },
  {
   "cell_type": "markdown",
   "metadata": {},
   "source": [
    "### 4. Visualize the ellipsis fit\n",
    "\n",
    "#### Plots in the estimated ellipsis plane"
   ]
  },
  {
   "cell_type": "code",
   "execution_count": 55,
   "metadata": {},
   "outputs": [],
   "source": [
    "t = np.linspace(0, 2 * np.pi, 512)\n",
    "#  Fit ellipsis on the estimated plane\n",
    "xthat = a * np.cos(t) * np.cos(phi) - b * np.sin(t) * np.sin(phi) + offu\n",
    "ythat = a * np.cos(t) * np.sin(phi) + b * np.sin(t) * np.cos(phi) + offv\n",
    "#  Actual ellipsis (projection on the estimated plane)\n",
    "x1 = a1 * (1 + np.cos(t + phi1))\n",
    "x2 = a2 * (1 + np.cos(t + tri + phi2))\n",
    "x3 = a3 * (1 + np.cos(t - tri + phi3))\n",
    "Xp = Bell @ np.vstack((x1, x2, x3))"
   ]
  },
  {
   "cell_type": "code",
   "execution_count": 56,
   "metadata": {},
   "outputs": [
    {
     "data": {
      "application/vnd.jupyter.widget-view+json": {
       "model_id": "a4994314d0d34da180f0588f6bbd2fbf",
       "version_major": 2,
       "version_minor": 0
      },
      "text/plain": [
       "Canvas(toolbar=Toolbar(toolitems=[('Home', 'Reset original view', 'home', 'home'), ('Back', 'Back to previous …"
      ]
     },
     "metadata": {},
     "output_type": "display_data"
    }
   ],
   "source": [
    "fig, ax = plt.subplots(1, 1, sharex=True, sharey=True, figsize=fs)\n",
    "ax.plot(y0, y1, \"x\", label=\"samples\")\n",
    "ax.plot(Xp[0, :], Xp[1, :], \"--\", color=\"gray\", linewidth=3, label=\"true\")\n",
    "ax.plot(xthat, ythat, \":\", color=\"darkorange\", linewidth=2, label=\"est\")\n",
    "ax.legend()\n",
    "ax.grid(\"on\")\n",
    "# delta = 0.005\n",
    "# xrange = np.arange(-1.0, 1.0, delta)\n",
    "# yrange = np.arange(-1.0, 1.0, delta)\n",
    "# XX, YY = np.meshgrid(xrange, yrange)\n",
    "# ax.contour(XX, YY, A * XX ** 2 + B * XX * YY + C * YY ** 2 + D * XX + E * YY + F, [0])"
   ]
  },
  {
   "cell_type": "markdown",
   "metadata": {},
   "source": [
    "#### Plots in the 3D signal coordinates"
   ]
  },
  {
   "cell_type": "code",
   "execution_count": 57,
   "metadata": {},
   "outputs": [
    {
     "data": {
      "application/vnd.jupyter.widget-view+json": {
       "model_id": "041d980b2bfa40079cda8a00ac61e636",
       "version_major": 2,
       "version_minor": 0
      },
      "text/plain": [
       "Canvas(toolbar=Toolbar(toolitems=[('Home', 'Reset original view', 'home', 'home'), ('Back', 'Back to previous …"
      ]
     },
     "metadata": {},
     "output_type": "display_data"
    }
   ],
   "source": [
    "from mpl_toolkits import mplot3d\n",
    "\n",
    "fig, ax = plt.subplots(1, 1, sharex=True, sharey=True, figsize=fs)\n",
    "ax = plt.axes(projection=\"3d\")\n",
    "# Data for a three-dimensional line\n",
    "ax.plot3D(X[:, 0], X[:, 1], X[:, 2], \"x\")\n",
    "ax.plot3D(x1, x2, x3, \"--\", color=\"gray\", linewidth=3)\n",
    "x3dhat = (\n",
    "    u.reshape((-1, 1)) @ xthat.reshape((1, -1))\n",
    "    + v.reshape((-1, 1)) @ ythat.reshape((1, -1))\n",
    "    + offset * beta\n",
    ")\n",
    "ax.plot3D(\n",
    "    x3dhat[0, :], x3dhat[1, :], x3dhat[2, :], \":\", color=\"darkorange\", linewidth=2\n",
    ")\n",
    "plt.show()"
   ]
  },
  {
   "cell_type": "markdown",
   "metadata": {},
   "source": [
    "### 5. Calcul des paramètres de déséquilibre\n",
    "Les paramètres de l'ellipse nous donnent directement les déséquilibres de puissance et de phase"
   ]
  },
  {
   "cell_type": "code",
   "execution_count": 58,
   "metadata": {},
   "outputs": [
    {
     "name": "stdout",
     "output_type": "stream",
     "text": [
      "actual relative power = [1.2, 1, 1.5]\n",
      "est of relative power = [1.1909 1.0329 1.5199]\n",
      "actual relative phases = [0.2, 0.1, 0.15]\n",
      "est of relative phases = [0.2000 0.0918 0.1622]\n"
     ]
    }
   ],
   "source": [
    "modpower, phases, phase0 = pol2balance(a, b, phi, Bell, phaseref=phi1)\n",
    "print(f\"actual relative power = {[a1, a2, a3]}\")\n",
    "print(f\"est of relative power = {modpower}\")\n",
    "diffphases = subsangle(np.array([0, tri, -tri]), phases)\n",
    "print(f\"actual relative phases = {[phi1, phi2, phi3]}\")\n",
    "print(f\"est of relative phases = {diffphases.ravel()}\")\n"
   ]
  },
  {
   "cell_type": "markdown",
   "metadata": {},
   "source": [
    "### 6. Estimateurs du déphasage $\\theta$ avec ou sans correction"
   ]
  },
  {
   "cell_type": "code",
   "execution_count": 59,
   "metadata": {},
   "outputs": [
    {
     "name": "stdout",
     "output_type": "stream",
     "text": [
      "RMS for the balanced estimator = 0.0147\n",
      "RMS for the direct (unbalanced) estimator = 0.3361\n"
     ]
    }
   ],
   "source": [
    "thetahat = pol2theta(a, b, phi, offu, offv, Bell, phase0, X)\n",
    "rms = np.sqrt(np.mean(subsangle(thetahat.ravel(), theta.ravel()) ** 2))\n",
    "print(\"RMS for the balanced estimator = {:.4f}\".format(rms))\n",
    "\n",
    "#  Clarke transform to estimate the phase (w/o the balance correction)\n",
    "xalpha = X[:, 0] - 0.5 * X[:, 1] - 0.5 * X[:, 2]\n",
    "xbeta = np.sqrt(3) / 2 * (X[:, 1] - X[:, 2])\n",
    "thetaunbal = np.angle(xalpha.ravel() + 1j * xbeta.ravel())\n",
    "thetaunbal = np.unwrap(thetaunbal)\n",
    "rmsunbal = np.sqrt(np.mean(subsangle(-thetaunbal, theta) ** 2))\n",
    "print(\"RMS for the direct (unbalanced) estimator = {:.4f}\".format(rmsunbal))"
   ]
  },
  {
   "cell_type": "code",
   "execution_count": 63,
   "metadata": {},
   "outputs": [
    {
     "data": {
      "application/vnd.jupyter.widget-view+json": {
       "model_id": "30894a4274de4f018bab461b5bb61c76",
       "version_major": 2,
       "version_minor": 0
      },
      "text/plain": [
       "Canvas(toolbar=Toolbar(toolitems=[('Home', 'Reset original view', 'home', 'home'), ('Back', 'Back to previous …"
      ]
     },
     "metadata": {},
     "output_type": "display_data"
    }
   ],
   "source": [
    "fig, ax = plt.subplots(1, 1, sharex=True, sharey=True, figsize=fs)\n",
    "ax.plot(theta, label=\"true\")\n",
    "ax.plot(thetahat, \":\", linewidth=3, label=\"est. with balance correction\")\n",
    "ax.plot(-thetaunbal, \"--\", linewidth=3, label=\"est. w/o balance correction\")\n",
    "ax.set_ylabel(\"radian\")\n",
    "ax.set_xlabel(\"sample\")\n",
    "ax.legend()\n",
    "ax.grid(\"on\")"
   ]
  },
  {
   "cell_type": "code",
   "execution_count": null,
   "metadata": {},
   "outputs": [],
   "source": []
  }
 ],
 "metadata": {
  "kernelspec": {
   "display_name": "Python [conda env:calc]",
   "language": "python",
   "name": "conda-env-calc-py"
  },
  "language_info": {
   "codemirror_mode": {
    "name": "ipython",
    "version": 3
   },
   "file_extension": ".py",
   "mimetype": "text/x-python",
   "name": "python",
   "nbconvert_exporter": "python",
   "pygments_lexer": "ipython3",
   "version": "3.7.9"
  },
  "widgets": {
   "application/vnd.jupyter.widget-state+json": {
    "state": {
     "0053aef0c5d04ff9b01f432c7abbe732": {
      "model_module": "@jupyter-widgets/base",
      "model_module_version": "1.2.0",
      "model_name": "LayoutModel",
      "state": {}
     },
     "01495567cf1442f9a56e5b2aa05ab92a": {
      "model_module": "@jupyter-widgets/base",
      "model_module_version": "1.2.0",
      "model_name": "LayoutModel",
      "state": {}
     },
     "01ecebc5bc4947318d85d2c1a08ba294": {
      "model_module": "@jupyter-widgets/base",
      "model_module_version": "1.2.0",
      "model_name": "LayoutModel",
      "state": {}
     },
     "041d980b2bfa40079cda8a00ac61e636": {
      "model_module": "jupyter-matplotlib",
      "model_module_version": "^0.8.1",
      "model_name": "MPLCanvasModel",
      "state": {
       "_cursor": "default",
       "_figure_label": "Figure 6",
       "_height": 499,
       "_width": 799,
       "layout": "IPY_MODEL_3c5b71874b6e4efaa911e4c8ff506f85",
       "toolbar": "IPY_MODEL_155098dc213847cc8b8c7f1a320b0e5a",
       "toolbar_position": "left"
      }
     },
     "04932bc7a6df450fa94270e166e8b936": {
      "model_module": "jupyter-matplotlib",
      "model_module_version": "^0.8.1",
      "model_name": "ToolbarModel",
      "state": {
       "layout": "IPY_MODEL_06974a7ee22644dfa8384ddf81e24181",
       "toolitems": [
        [
         "Home",
         "Reset original view",
         "home",
         "home"
        ],
        [
         "Back",
         "Back to previous view",
         "arrow-left",
         "back"
        ],
        [
         "Forward",
         "Forward to next view",
         "arrow-right",
         "forward"
        ],
        [
         "Pan",
         "Left button pans, Right button zooms\nx/y fixes axis, CTRL fixes aspect",
         "arrows",
         "pan"
        ],
        [
         "Zoom",
         "Zoom to rectangle\nx/y fixes axis, CTRL fixes aspect",
         "square-o",
         "zoom"
        ],
        [
         "Download",
         "Download plot",
         "floppy-o",
         "save_figure"
        ]
       ]
      }
     },
     "056557f54c7b4a47ab17e0fa036f25f8": {
      "model_module": "jupyter-matplotlib",
      "model_module_version": "^0.8.1",
      "model_name": "MPLCanvasModel",
      "state": {
       "_cursor": "default",
       "_figure_label": "Figure 9",
       "_height": 499,
       "_width": 799,
       "layout": "IPY_MODEL_1a9d71b9815043259f992a8fb8bfa652",
       "toolbar": "IPY_MODEL_68fcc37f834546169b90dd667bc2dc6d",
       "toolbar_position": "left"
      }
     },
     "06974a7ee22644dfa8384ddf81e24181": {
      "model_module": "@jupyter-widgets/base",
      "model_module_version": "1.2.0",
      "model_name": "LayoutModel",
      "state": {}
     },
     "07cc871f34ac498b96ca75b876335423": {
      "model_module": "@jupyter-widgets/base",
      "model_module_version": "1.2.0",
      "model_name": "LayoutModel",
      "state": {}
     },
     "09ba88ef525346ff88e35e2ce694b150": {
      "model_module": "jupyter-matplotlib",
      "model_module_version": "^0.8.1",
      "model_name": "MPLCanvasModel",
      "state": {
       "_cursor": "default",
       "_figure_label": "Figure 3",
       "_height": 499,
       "_image_mode": "diff",
       "_width": 799,
       "layout": "IPY_MODEL_f33e39a70bc64d148274306a055fbceb",
       "toolbar": "IPY_MODEL_7798e891b69e4f198875c7f28a4212de",
       "toolbar_position": "left"
      }
     },
     "0b6f069db1014b42a48bfaaeb25704db": {
      "model_module": "@jupyter-widgets/base",
      "model_module_version": "1.2.0",
      "model_name": "LayoutModel",
      "state": {}
     },
     "0c1af2955ce14a7196f579ef60f5d817": {
      "model_module": "jupyter-matplotlib",
      "model_module_version": "^0.8.1",
      "model_name": "ToolbarModel",
      "state": {
       "layout": "IPY_MODEL_29adb3f09b394f3693136e05e9791ab6",
       "toolitems": [
        [
         "Home",
         "Reset original view",
         "home",
         "home"
        ],
        [
         "Back",
         "Back to previous view",
         "arrow-left",
         "back"
        ],
        [
         "Forward",
         "Forward to next view",
         "arrow-right",
         "forward"
        ],
        [
         "Pan",
         "Left button pans, Right button zooms\nx/y fixes axis, CTRL fixes aspect",
         "arrows",
         "pan"
        ],
        [
         "Zoom",
         "Zoom to rectangle\nx/y fixes axis, CTRL fixes aspect",
         "square-o",
         "zoom"
        ],
        [
         "Download",
         "Download plot",
         "floppy-o",
         "save_figure"
        ]
       ]
      }
     },
     "0d8410372db14aa8badccec6bc090ef4": {
      "model_module": "@jupyter-widgets/base",
      "model_module_version": "1.2.0",
      "model_name": "LayoutModel",
      "state": {}
     },
     "134c0728771a422db3ae4d08540b76c4": {
      "model_module": "jupyter-matplotlib",
      "model_module_version": "^0.8.1",
      "model_name": "ToolbarModel",
      "state": {
       "layout": "IPY_MODEL_d3f22fb84b974666914da75af237372b",
       "toolitems": [
        [
         "Home",
         "Reset original view",
         "home",
         "home"
        ],
        [
         "Back",
         "Back to previous view",
         "arrow-left",
         "back"
        ],
        [
         "Forward",
         "Forward to next view",
         "arrow-right",
         "forward"
        ],
        [
         "Pan",
         "Left button pans, Right button zooms\nx/y fixes axis, CTRL fixes aspect",
         "arrows",
         "pan"
        ],
        [
         "Zoom",
         "Zoom to rectangle\nx/y fixes axis, CTRL fixes aspect",
         "square-o",
         "zoom"
        ],
        [
         "Download",
         "Download plot",
         "floppy-o",
         "save_figure"
        ]
       ]
      }
     },
     "155098dc213847cc8b8c7f1a320b0e5a": {
      "model_module": "jupyter-matplotlib",
      "model_module_version": "^0.8.1",
      "model_name": "ToolbarModel",
      "state": {
       "layout": "IPY_MODEL_0d8410372db14aa8badccec6bc090ef4",
       "toolitems": [
        [
         "Home",
         "Reset original view",
         "home",
         "home"
        ],
        [
         "Back",
         "Back to previous view",
         "arrow-left",
         "back"
        ],
        [
         "Forward",
         "Forward to next view",
         "arrow-right",
         "forward"
        ],
        [
         "Pan",
         "Left button pans, Right button zooms\nx/y fixes axis, CTRL fixes aspect",
         "arrows",
         "pan"
        ],
        [
         "Zoom",
         "Zoom to rectangle\nx/y fixes axis, CTRL fixes aspect",
         "square-o",
         "zoom"
        ],
        [
         "Download",
         "Download plot",
         "floppy-o",
         "save_figure"
        ]
       ]
      }
     },
     "1a9d71b9815043259f992a8fb8bfa652": {
      "model_module": "@jupyter-widgets/base",
      "model_module_version": "1.2.0",
      "model_name": "LayoutModel",
      "state": {}
     },
     "20af09a1942e47b09a033c3f2ad5f4d5": {
      "model_module": "@jupyter-widgets/base",
      "model_module_version": "1.2.0",
      "model_name": "LayoutModel",
      "state": {}
     },
     "261d0ba6115249a58ac1f86a5f9d9af9": {
      "model_module": "@jupyter-widgets/base",
      "model_module_version": "1.2.0",
      "model_name": "LayoutModel",
      "state": {}
     },
     "27be937f1b964e5da808e3666560c656": {
      "model_module": "@jupyter-widgets/base",
      "model_module_version": "1.2.0",
      "model_name": "LayoutModel",
      "state": {}
     },
     "28159a28d8c54de9b357c6100a5e5c21": {
      "model_module": "jupyter-matplotlib",
      "model_module_version": "^0.8.1",
      "model_name": "ToolbarModel",
      "state": {
       "layout": "IPY_MODEL_e19f41f76db049e0a21ffcff4783939d",
       "toolitems": [
        [
         "Home",
         "Reset original view",
         "home",
         "home"
        ],
        [
         "Back",
         "Back to previous view",
         "arrow-left",
         "back"
        ],
        [
         "Forward",
         "Forward to next view",
         "arrow-right",
         "forward"
        ],
        [
         "Pan",
         "Left button pans, Right button zooms\nx/y fixes axis, CTRL fixes aspect",
         "arrows",
         "pan"
        ],
        [
         "Zoom",
         "Zoom to rectangle\nx/y fixes axis, CTRL fixes aspect",
         "square-o",
         "zoom"
        ],
        [
         "Download",
         "Download plot",
         "floppy-o",
         "save_figure"
        ]
       ]
      }
     },
     "29adb3f09b394f3693136e05e9791ab6": {
      "model_module": "@jupyter-widgets/base",
      "model_module_version": "1.2.0",
      "model_name": "LayoutModel",
      "state": {}
     },
     "2ed49a23e6aa4fac86ddcd6850144172": {
      "model_module": "@jupyter-widgets/base",
      "model_module_version": "1.2.0",
      "model_name": "LayoutModel",
      "state": {}
     },
     "30894a4274de4f018bab461b5bb61c76": {
      "model_module": "jupyter-matplotlib",
      "model_module_version": "^0.8.1",
      "model_name": "MPLCanvasModel",
      "state": {
       "_cursor": "default",
       "_figure_label": "Figure 10",
       "_height": 499,
       "_width": 799,
       "layout": "IPY_MODEL_f096490403ed46d1a1a607ac035afb66",
       "toolbar": "IPY_MODEL_ead7fd586d7f4a2c8a9504f02d67a6a9",
       "toolbar_position": "left"
      }
     },
     "324d29e1127e42c0869c2a0d3f252718": {
      "model_module": "jupyter-matplotlib",
      "model_module_version": "^0.8.1",
      "model_name": "ToolbarModel",
      "state": {
       "layout": "IPY_MODEL_e8f656abee0f422db127fd398edcdaa9",
       "toolitems": [
        [
         "Home",
         "Reset original view",
         "home",
         "home"
        ],
        [
         "Back",
         "Back to previous view",
         "arrow-left",
         "back"
        ],
        [
         "Forward",
         "Forward to next view",
         "arrow-right",
         "forward"
        ],
        [
         "Pan",
         "Left button pans, Right button zooms\nx/y fixes axis, CTRL fixes aspect",
         "arrows",
         "pan"
        ],
        [
         "Zoom",
         "Zoom to rectangle\nx/y fixes axis, CTRL fixes aspect",
         "square-o",
         "zoom"
        ],
        [
         "Download",
         "Download plot",
         "floppy-o",
         "save_figure"
        ]
       ]
      }
     },
     "371d471a0170493594ec01049666979e": {
      "model_module": "jupyter-matplotlib",
      "model_module_version": "^0.8.1",
      "model_name": "ToolbarModel",
      "state": {
       "layout": "IPY_MODEL_644e7c69225d400e9ddb212d90b15325",
       "toolitems": [
        [
         "Home",
         "Reset original view",
         "home",
         "home"
        ],
        [
         "Back",
         "Back to previous view",
         "arrow-left",
         "back"
        ],
        [
         "Forward",
         "Forward to next view",
         "arrow-right",
         "forward"
        ],
        [
         "Pan",
         "Left button pans, Right button zooms\nx/y fixes axis, CTRL fixes aspect",
         "arrows",
         "pan"
        ],
        [
         "Zoom",
         "Zoom to rectangle\nx/y fixes axis, CTRL fixes aspect",
         "square-o",
         "zoom"
        ],
        [
         "Download",
         "Download plot",
         "floppy-o",
         "save_figure"
        ]
       ]
      }
     },
     "3744a82625034d748b04f4dc4c47b012": {
      "model_module": "jupyter-matplotlib",
      "model_module_version": "^0.8.1",
      "model_name": "ToolbarModel",
      "state": {
       "layout": "IPY_MODEL_0b6f069db1014b42a48bfaaeb25704db",
       "toolitems": [
        [
         "Home",
         "Reset original view",
         "home",
         "home"
        ],
        [
         "Back",
         "Back to previous view",
         "arrow-left",
         "back"
        ],
        [
         "Forward",
         "Forward to next view",
         "arrow-right",
         "forward"
        ],
        [
         "Pan",
         "Left button pans, Right button zooms\nx/y fixes axis, CTRL fixes aspect",
         "arrows",
         "pan"
        ],
        [
         "Zoom",
         "Zoom to rectangle\nx/y fixes axis, CTRL fixes aspect",
         "square-o",
         "zoom"
        ],
        [
         "Download",
         "Download plot",
         "floppy-o",
         "save_figure"
        ]
       ]
      }
     },
     "3b83efb55da34f4aa5f66535d9a5320e": {
      "model_module": "@jupyter-widgets/base",
      "model_module_version": "1.2.0",
      "model_name": "LayoutModel",
      "state": {}
     },
     "3c5b71874b6e4efaa911e4c8ff506f85": {
      "model_module": "@jupyter-widgets/base",
      "model_module_version": "1.2.0",
      "model_name": "LayoutModel",
      "state": {}
     },
     "43e6a845f77f4758a5f430cfc4f4f72c": {
      "model_module": "jupyter-matplotlib",
      "model_module_version": "^0.8.1",
      "model_name": "ToolbarModel",
      "state": {
       "layout": "IPY_MODEL_52e6dc10ea93421b8bea786fabc8e46c",
       "toolitems": [
        [
         "Home",
         "Reset original view",
         "home",
         "home"
        ],
        [
         "Back",
         "Back to previous view",
         "arrow-left",
         "back"
        ],
        [
         "Forward",
         "Forward to next view",
         "arrow-right",
         "forward"
        ],
        [
         "Pan",
         "Left button pans, Right button zooms\nx/y fixes axis, CTRL fixes aspect",
         "arrows",
         "pan"
        ],
        [
         "Zoom",
         "Zoom to rectangle\nx/y fixes axis, CTRL fixes aspect",
         "square-o",
         "zoom"
        ],
        [
         "Download",
         "Download plot",
         "floppy-o",
         "save_figure"
        ]
       ]
      }
     },
     "44bb55593df94367a36c8a697294a76f": {
      "model_module": "@jupyter-widgets/base",
      "model_module_version": "1.2.0",
      "model_name": "LayoutModel",
      "state": {}
     },
     "4aad3ad8c3174bc3a74d40fbacf405f1": {
      "model_module": "jupyter-matplotlib",
      "model_module_version": "^0.8.1",
      "model_name": "ToolbarModel",
      "state": {
       "layout": "IPY_MODEL_586900f7668c4ddd8e373f4e7d2ca446",
       "toolitems": [
        [
         "Home",
         "Reset original view",
         "home",
         "home"
        ],
        [
         "Back",
         "Back to previous view",
         "arrow-left",
         "back"
        ],
        [
         "Forward",
         "Forward to next view",
         "arrow-right",
         "forward"
        ],
        [
         "Pan",
         "Left button pans, Right button zooms\nx/y fixes axis, CTRL fixes aspect",
         "arrows",
         "pan"
        ],
        [
         "Zoom",
         "Zoom to rectangle\nx/y fixes axis, CTRL fixes aspect",
         "square-o",
         "zoom"
        ],
        [
         "Download",
         "Download plot",
         "floppy-o",
         "save_figure"
        ]
       ]
      }
     },
     "4e1e9b0b29c54f9b97a2460fe488ea65": {
      "model_module": "@jupyter-widgets/base",
      "model_module_version": "1.2.0",
      "model_name": "LayoutModel",
      "state": {}
     },
     "4feb6f2d75f049168c1b8d0d267aecba": {
      "model_module": "@jupyter-widgets/base",
      "model_module_version": "1.2.0",
      "model_name": "LayoutModel",
      "state": {}
     },
     "52e6dc10ea93421b8bea786fabc8e46c": {
      "model_module": "@jupyter-widgets/base",
      "model_module_version": "1.2.0",
      "model_name": "LayoutModel",
      "state": {}
     },
     "53c64b81fb1f44c8be822896de7ab5bf": {
      "model_module": "@jupyter-widgets/base",
      "model_module_version": "1.2.0",
      "model_name": "LayoutModel",
      "state": {}
     },
     "5864d9289d5e45f78d5787e12eb407f6": {
      "model_module": "jupyter-matplotlib",
      "model_module_version": "^0.8.1",
      "model_name": "MPLCanvasModel",
      "state": {
       "_cursor": "default",
       "_figure_label": "Figure 2",
       "_height": 499,
       "_image_mode": "diff",
       "_width": 799,
       "layout": "IPY_MODEL_944a9032eea842439ca7d6ea472be9b9",
       "toolbar": "IPY_MODEL_94386b203a7a42948d8058447dd08e01",
       "toolbar_position": "left"
      }
     },
     "586900f7668c4ddd8e373f4e7d2ca446": {
      "model_module": "@jupyter-widgets/base",
      "model_module_version": "1.2.0",
      "model_name": "LayoutModel",
      "state": {}
     },
     "5a3f1a8561a14db7813794fdc7f6ded9": {
      "model_module": "jupyter-matplotlib",
      "model_module_version": "^0.8.1",
      "model_name": "ToolbarModel",
      "state": {
       "layout": "IPY_MODEL_67dc00dcb7ac4124b92893befbac694d",
       "toolitems": [
        [
         "Home",
         "Reset original view",
         "home",
         "home"
        ],
        [
         "Back",
         "Back to previous view",
         "arrow-left",
         "back"
        ],
        [
         "Forward",
         "Forward to next view",
         "arrow-right",
         "forward"
        ],
        [
         "Pan",
         "Left button pans, Right button zooms\nx/y fixes axis, CTRL fixes aspect",
         "arrows",
         "pan"
        ],
        [
         "Zoom",
         "Zoom to rectangle\nx/y fixes axis, CTRL fixes aspect",
         "square-o",
         "zoom"
        ],
        [
         "Download",
         "Download plot",
         "floppy-o",
         "save_figure"
        ]
       ]
      }
     },
     "5f8b97f8bfa148159e1d252f3aaf2e31": {
      "model_module": "@jupyter-widgets/base",
      "model_module_version": "1.2.0",
      "model_name": "LayoutModel",
      "state": {}
     },
     "601037fd5e774a3c816b75d830cd45e7": {
      "model_module": "@jupyter-widgets/base",
      "model_module_version": "1.2.0",
      "model_name": "LayoutModel",
      "state": {}
     },
     "644e7c69225d400e9ddb212d90b15325": {
      "model_module": "@jupyter-widgets/base",
      "model_module_version": "1.2.0",
      "model_name": "LayoutModel",
      "state": {}
     },
     "64a3dba65743477f831a3789f3836854": {
      "model_module": "jupyter-matplotlib",
      "model_module_version": "^0.8.1",
      "model_name": "ToolbarModel",
      "state": {
       "layout": "IPY_MODEL_4feb6f2d75f049168c1b8d0d267aecba",
       "toolitems": [
        [
         "Home",
         "Reset original view",
         "home",
         "home"
        ],
        [
         "Back",
         "Back to previous view",
         "arrow-left",
         "back"
        ],
        [
         "Forward",
         "Forward to next view",
         "arrow-right",
         "forward"
        ],
        [
         "Pan",
         "Left button pans, Right button zooms\nx/y fixes axis, CTRL fixes aspect",
         "arrows",
         "pan"
        ],
        [
         "Zoom",
         "Zoom to rectangle\nx/y fixes axis, CTRL fixes aspect",
         "square-o",
         "zoom"
        ],
        [
         "Download",
         "Download plot",
         "floppy-o",
         "save_figure"
        ]
       ]
      }
     },
     "65d0ad607ac84c5f93b4298c06b6d3f3": {
      "model_module": "@jupyter-widgets/base",
      "model_module_version": "1.2.0",
      "model_name": "LayoutModel",
      "state": {}
     },
     "67dc00dcb7ac4124b92893befbac694d": {
      "model_module": "@jupyter-widgets/base",
      "model_module_version": "1.2.0",
      "model_name": "LayoutModel",
      "state": {}
     },
     "6877b67b724f460cb35ff6dd5c6c32cb": {
      "model_module": "jupyter-matplotlib",
      "model_module_version": "^0.8.1",
      "model_name": "ToolbarModel",
      "state": {
       "layout": "IPY_MODEL_c4f3e9d500914317afa222972cacdf15",
       "toolitems": [
        [
         "Home",
         "Reset original view",
         "home",
         "home"
        ],
        [
         "Back",
         "Back to previous view",
         "arrow-left",
         "back"
        ],
        [
         "Forward",
         "Forward to next view",
         "arrow-right",
         "forward"
        ],
        [
         "Pan",
         "Left button pans, Right button zooms\nx/y fixes axis, CTRL fixes aspect",
         "arrows",
         "pan"
        ],
        [
         "Zoom",
         "Zoom to rectangle\nx/y fixes axis, CTRL fixes aspect",
         "square-o",
         "zoom"
        ],
        [
         "Download",
         "Download plot",
         "floppy-o",
         "save_figure"
        ]
       ]
      }
     },
     "688da1291c574fafb944aa60da8affe1": {
      "model_module": "@jupyter-widgets/base",
      "model_module_version": "1.2.0",
      "model_name": "LayoutModel",
      "state": {}
     },
     "68fcc37f834546169b90dd667bc2dc6d": {
      "model_module": "jupyter-matplotlib",
      "model_module_version": "^0.8.1",
      "model_name": "ToolbarModel",
      "state": {
       "layout": "IPY_MODEL_ddc1e49504124b8ea94238885ce81260",
       "toolitems": [
        [
         "Home",
         "Reset original view",
         "home",
         "home"
        ],
        [
         "Back",
         "Back to previous view",
         "arrow-left",
         "back"
        ],
        [
         "Forward",
         "Forward to next view",
         "arrow-right",
         "forward"
        ],
        [
         "Pan",
         "Left button pans, Right button zooms\nx/y fixes axis, CTRL fixes aspect",
         "arrows",
         "pan"
        ],
        [
         "Zoom",
         "Zoom to rectangle\nx/y fixes axis, CTRL fixes aspect",
         "square-o",
         "zoom"
        ],
        [
         "Download",
         "Download plot",
         "floppy-o",
         "save_figure"
        ]
       ]
      }
     },
     "6bf9bb9220ec4a03a2f8f7885fbdc85c": {
      "model_module": "@jupyter-widgets/base",
      "model_module_version": "1.2.0",
      "model_name": "LayoutModel",
      "state": {}
     },
     "7798e891b69e4f198875c7f28a4212de": {
      "model_module": "jupyter-matplotlib",
      "model_module_version": "^0.8.1",
      "model_name": "ToolbarModel",
      "state": {
       "layout": "IPY_MODEL_53c64b81fb1f44c8be822896de7ab5bf",
       "toolitems": [
        [
         "Home",
         "Reset original view",
         "home",
         "home"
        ],
        [
         "Back",
         "Back to previous view",
         "arrow-left",
         "back"
        ],
        [
         "Forward",
         "Forward to next view",
         "arrow-right",
         "forward"
        ],
        [
         "Pan",
         "Left button pans, Right button zooms\nx/y fixes axis, CTRL fixes aspect",
         "arrows",
         "pan"
        ],
        [
         "Zoom",
         "Zoom to rectangle\nx/y fixes axis, CTRL fixes aspect",
         "square-o",
         "zoom"
        ],
        [
         "Download",
         "Download plot",
         "floppy-o",
         "save_figure"
        ]
       ]
      }
     },
     "795dedd649b74133a83a0b028d7fd356": {
      "model_module": "@jupyter-widgets/base",
      "model_module_version": "1.2.0",
      "model_name": "LayoutModel",
      "state": {}
     },
     "7befc4c5b99f4a4a815f37c5f3a8ab59": {
      "model_module": "jupyter-matplotlib",
      "model_module_version": "^0.8.1",
      "model_name": "ToolbarModel",
      "state": {
       "layout": "IPY_MODEL_9cc6f908ca0f47f29375a75a92856765",
       "toolitems": [
        [
         "Home",
         "Reset original view",
         "home",
         "home"
        ],
        [
         "Back",
         "Back to previous view",
         "arrow-left",
         "back"
        ],
        [
         "Forward",
         "Forward to next view",
         "arrow-right",
         "forward"
        ],
        [
         "Pan",
         "Left button pans, Right button zooms\nx/y fixes axis, CTRL fixes aspect",
         "arrows",
         "pan"
        ],
        [
         "Zoom",
         "Zoom to rectangle\nx/y fixes axis, CTRL fixes aspect",
         "square-o",
         "zoom"
        ],
        [
         "Download",
         "Download plot",
         "floppy-o",
         "save_figure"
        ]
       ]
      }
     },
     "7f867c369cad4cdc8480bdba48e50e34": {
      "model_module": "@jupyter-widgets/base",
      "model_module_version": "1.2.0",
      "model_name": "LayoutModel",
      "state": {}
     },
     "85d872c59d1d4dcbb66927e8a2ec8a90": {
      "model_module": "@jupyter-widgets/base",
      "model_module_version": "1.2.0",
      "model_name": "LayoutModel",
      "state": {}
     },
     "86f960a820524142bf74179ceda98f0f": {
      "model_module": "jupyter-matplotlib",
      "model_module_version": "^0.8.1",
      "model_name": "ToolbarModel",
      "state": {
       "layout": "IPY_MODEL_688da1291c574fafb944aa60da8affe1",
       "toolitems": [
        [
         "Home",
         "Reset original view",
         "home",
         "home"
        ],
        [
         "Back",
         "Back to previous view",
         "arrow-left",
         "back"
        ],
        [
         "Forward",
         "Forward to next view",
         "arrow-right",
         "forward"
        ],
        [
         "Pan",
         "Left button pans, Right button zooms\nx/y fixes axis, CTRL fixes aspect",
         "arrows",
         "pan"
        ],
        [
         "Zoom",
         "Zoom to rectangle\nx/y fixes axis, CTRL fixes aspect",
         "square-o",
         "zoom"
        ],
        [
         "Download",
         "Download plot",
         "floppy-o",
         "save_figure"
        ]
       ]
      }
     },
     "8b2f087d78fd4cdab5ed47c166a14844": {
      "model_module": "jupyter-matplotlib",
      "model_module_version": "^0.8.1",
      "model_name": "MPLCanvasModel",
      "state": {
       "_cursor": "default",
       "_figure_label": "Figure 4",
       "_height": 499,
       "_image_mode": "diff",
       "_width": 799,
       "layout": "IPY_MODEL_20af09a1942e47b09a033c3f2ad5f4d5",
       "toolbar": "IPY_MODEL_0c1af2955ce14a7196f579ef60f5d817",
       "toolbar_position": "left"
      }
     },
     "8c354419bba440a184fac75a60b5fbbc": {
      "model_module": "jupyter-matplotlib",
      "model_module_version": "^0.8.1",
      "model_name": "MPLCanvasModel",
      "state": {
       "_cursor": "default",
       "_figure_label": "Figure 7",
       "_height": 499,
       "_width": 799,
       "layout": "IPY_MODEL_b0070611c99645c7932048c6a120ea4b",
       "toolbar": "IPY_MODEL_9f26327c462a49dda7d2b252171419e8",
       "toolbar_position": "left"
      }
     },
     "8d8bd8262fc84b6397a190d0a166a2d3": {
      "model_module": "@jupyter-widgets/base",
      "model_module_version": "1.2.0",
      "model_name": "LayoutModel",
      "state": {}
     },
     "94386b203a7a42948d8058447dd08e01": {
      "model_module": "jupyter-matplotlib",
      "model_module_version": "^0.8.1",
      "model_name": "ToolbarModel",
      "state": {
       "layout": "IPY_MODEL_85d872c59d1d4dcbb66927e8a2ec8a90",
       "toolitems": [
        [
         "Home",
         "Reset original view",
         "home",
         "home"
        ],
        [
         "Back",
         "Back to previous view",
         "arrow-left",
         "back"
        ],
        [
         "Forward",
         "Forward to next view",
         "arrow-right",
         "forward"
        ],
        [
         "Pan",
         "Left button pans, Right button zooms\nx/y fixes axis, CTRL fixes aspect",
         "arrows",
         "pan"
        ],
        [
         "Zoom",
         "Zoom to rectangle\nx/y fixes axis, CTRL fixes aspect",
         "square-o",
         "zoom"
        ],
        [
         "Download",
         "Download plot",
         "floppy-o",
         "save_figure"
        ]
       ]
      }
     },
     "944a9032eea842439ca7d6ea472be9b9": {
      "model_module": "@jupyter-widgets/base",
      "model_module_version": "1.2.0",
      "model_name": "LayoutModel",
      "state": {}
     },
     "976f220de1194c13926a382531029531": {
      "model_module": "jupyter-matplotlib",
      "model_module_version": "^0.8.1",
      "model_name": "ToolbarModel",
      "state": {
       "layout": "IPY_MODEL_261d0ba6115249a58ac1f86a5f9d9af9",
       "toolitems": [
        [
         "Home",
         "Reset original view",
         "home",
         "home"
        ],
        [
         "Back",
         "Back to previous view",
         "arrow-left",
         "back"
        ],
        [
         "Forward",
         "Forward to next view",
         "arrow-right",
         "forward"
        ],
        [
         "Pan",
         "Left button pans, Right button zooms\nx/y fixes axis, CTRL fixes aspect",
         "arrows",
         "pan"
        ],
        [
         "Zoom",
         "Zoom to rectangle\nx/y fixes axis, CTRL fixes aspect",
         "square-o",
         "zoom"
        ],
        [
         "Download",
         "Download plot",
         "floppy-o",
         "save_figure"
        ]
       ]
      }
     },
     "97f11425789e465b9391772624c526a9": {
      "model_module": "jupyter-matplotlib",
      "model_module_version": "^0.8.1",
      "model_name": "ToolbarModel",
      "state": {
       "layout": "IPY_MODEL_65d0ad607ac84c5f93b4298c06b6d3f3",
       "toolitems": [
        [
         "Home",
         "Reset original view",
         "home",
         "home"
        ],
        [
         "Back",
         "Back to previous view",
         "arrow-left",
         "back"
        ],
        [
         "Forward",
         "Forward to next view",
         "arrow-right",
         "forward"
        ],
        [
         "Pan",
         "Left button pans, Right button zooms\nx/y fixes axis, CTRL fixes aspect",
         "arrows",
         "pan"
        ],
        [
         "Zoom",
         "Zoom to rectangle\nx/y fixes axis, CTRL fixes aspect",
         "square-o",
         "zoom"
        ],
        [
         "Download",
         "Download plot",
         "floppy-o",
         "save_figure"
        ]
       ]
      }
     },
     "9af4b41115f34241a8d60c26d2253b49": {
      "model_module": "@jupyter-widgets/base",
      "model_module_version": "1.2.0",
      "model_name": "LayoutModel",
      "state": {}
     },
     "9cc6f908ca0f47f29375a75a92856765": {
      "model_module": "@jupyter-widgets/base",
      "model_module_version": "1.2.0",
      "model_name": "LayoutModel",
      "state": {}
     },
     "9e13f45e887c4c3b8f2959d16f455a5d": {
      "model_module": "jupyter-matplotlib",
      "model_module_version": "^0.8.1",
      "model_name": "MPLCanvasModel",
      "state": {
       "_cursor": "default",
       "_figure_label": "Figure 8",
       "_height": 499,
       "_message": "x=0.493339     y=0.40",
       "_width": 799,
       "layout": "IPY_MODEL_8d8bd8262fc84b6397a190d0a166a2d3",
       "toolbar": "IPY_MODEL_43e6a845f77f4758a5f430cfc4f4f72c",
       "toolbar_position": "left"
      }
     },
     "9f26327c462a49dda7d2b252171419e8": {
      "model_module": "jupyter-matplotlib",
      "model_module_version": "^0.8.1",
      "model_name": "ToolbarModel",
      "state": {
       "layout": "IPY_MODEL_01495567cf1442f9a56e5b2aa05ab92a",
       "toolitems": [
        [
         "Home",
         "Reset original view",
         "home",
         "home"
        ],
        [
         "Back",
         "Back to previous view",
         "arrow-left",
         "back"
        ],
        [
         "Forward",
         "Forward to next view",
         "arrow-right",
         "forward"
        ],
        [
         "Pan",
         "Left button pans, Right button zooms\nx/y fixes axis, CTRL fixes aspect",
         "arrows",
         "pan"
        ],
        [
         "Zoom",
         "Zoom to rectangle\nx/y fixes axis, CTRL fixes aspect",
         "square-o",
         "zoom"
        ],
        [
         "Download",
         "Download plot",
         "floppy-o",
         "save_figure"
        ]
       ]
      }
     },
     "a4994314d0d34da180f0588f6bbd2fbf": {
      "model_module": "jupyter-matplotlib",
      "model_module_version": "^0.8.1",
      "model_name": "MPLCanvasModel",
      "state": {
       "_cursor": "default",
       "_figure_label": "Figure 5",
       "_height": 499,
       "_image_mode": "diff",
       "_width": 799,
       "layout": "IPY_MODEL_07cc871f34ac498b96ca75b876335423",
       "toolbar": "IPY_MODEL_976f220de1194c13926a382531029531",
       "toolbar_position": "left"
      }
     },
     "a80b9c51198041d8b1cc6dbb54bce200": {
      "model_module": "@jupyter-widgets/base",
      "model_module_version": "1.2.0",
      "model_name": "LayoutModel",
      "state": {}
     },
     "a9bb713dec5d4587b2f2952356839ea5": {
      "model_module": "jupyter-matplotlib",
      "model_module_version": "^0.8.1",
      "model_name": "ToolbarModel",
      "state": {
       "layout": "IPY_MODEL_2ed49a23e6aa4fac86ddcd6850144172",
       "toolitems": [
        [
         "Home",
         "Reset original view",
         "home",
         "home"
        ],
        [
         "Back",
         "Back to previous view",
         "arrow-left",
         "back"
        ],
        [
         "Forward",
         "Forward to next view",
         "arrow-right",
         "forward"
        ],
        [
         "Pan",
         "Left button pans, Right button zooms\nx/y fixes axis, CTRL fixes aspect",
         "arrows",
         "pan"
        ],
        [
         "Zoom",
         "Zoom to rectangle\nx/y fixes axis, CTRL fixes aspect",
         "square-o",
         "zoom"
        ],
        [
         "Download",
         "Download plot",
         "floppy-o",
         "save_figure"
        ]
       ]
      }
     },
     "b0070611c99645c7932048c6a120ea4b": {
      "model_module": "@jupyter-widgets/base",
      "model_module_version": "1.2.0",
      "model_name": "LayoutModel",
      "state": {}
     },
     "b036cb85961c4515963511ae19ee8c25": {
      "model_module": "@jupyter-widgets/base",
      "model_module_version": "1.2.0",
      "model_name": "LayoutModel",
      "state": {}
     },
     "c4f3e9d500914317afa222972cacdf15": {
      "model_module": "@jupyter-widgets/base",
      "model_module_version": "1.2.0",
      "model_name": "LayoutModel",
      "state": {}
     },
     "ca5a830d83774977a1754cc9d1ebcd86": {
      "model_module": "@jupyter-widgets/base",
      "model_module_version": "1.2.0",
      "model_name": "LayoutModel",
      "state": {}
     },
     "d3f22fb84b974666914da75af237372b": {
      "model_module": "@jupyter-widgets/base",
      "model_module_version": "1.2.0",
      "model_name": "LayoutModel",
      "state": {}
     },
     "d8f0c57d869b44c49ffe8b9d13f1f0aa": {
      "model_module": "jupyter-matplotlib",
      "model_module_version": "^0.8.1",
      "model_name": "ToolbarModel",
      "state": {
       "layout": "IPY_MODEL_601037fd5e774a3c816b75d830cd45e7",
       "toolitems": [
        [
         "Home",
         "Reset original view",
         "home",
         "home"
        ],
        [
         "Back",
         "Back to previous view",
         "arrow-left",
         "back"
        ],
        [
         "Forward",
         "Forward to next view",
         "arrow-right",
         "forward"
        ],
        [
         "Pan",
         "Left button pans, Right button zooms\nx/y fixes axis, CTRL fixes aspect",
         "arrows",
         "pan"
        ],
        [
         "Zoom",
         "Zoom to rectangle\nx/y fixes axis, CTRL fixes aspect",
         "square-o",
         "zoom"
        ],
        [
         "Download",
         "Download plot",
         "floppy-o",
         "save_figure"
        ]
       ]
      }
     },
     "dd1aed1549034ebbba3ed866c8eca2c5": {
      "model_module": "@jupyter-widgets/base",
      "model_module_version": "1.2.0",
      "model_name": "LayoutModel",
      "state": {}
     },
     "ddc1e49504124b8ea94238885ce81260": {
      "model_module": "@jupyter-widgets/base",
      "model_module_version": "1.2.0",
      "model_name": "LayoutModel",
      "state": {}
     },
     "dfd435503c484e06a62a280f3c9f18f0": {
      "model_module": "@jupyter-widgets/base",
      "model_module_version": "1.2.0",
      "model_name": "LayoutModel",
      "state": {}
     },
     "e19f41f76db049e0a21ffcff4783939d": {
      "model_module": "@jupyter-widgets/base",
      "model_module_version": "1.2.0",
      "model_name": "LayoutModel",
      "state": {}
     },
     "e4f021e085104e41977cbb4e83479f45": {
      "model_module": "@jupyter-widgets/base",
      "model_module_version": "1.2.0",
      "model_name": "LayoutModel",
      "state": {}
     },
     "e8f656abee0f422db127fd398edcdaa9": {
      "model_module": "@jupyter-widgets/base",
      "model_module_version": "1.2.0",
      "model_name": "LayoutModel",
      "state": {}
     },
     "ead7fd586d7f4a2c8a9504f02d67a6a9": {
      "model_module": "jupyter-matplotlib",
      "model_module_version": "^0.8.1",
      "model_name": "ToolbarModel",
      "state": {
       "layout": "IPY_MODEL_a80b9c51198041d8b1cc6dbb54bce200",
       "toolitems": [
        [
         "Home",
         "Reset original view",
         "home",
         "home"
        ],
        [
         "Back",
         "Back to previous view",
         "arrow-left",
         "back"
        ],
        [
         "Forward",
         "Forward to next view",
         "arrow-right",
         "forward"
        ],
        [
         "Pan",
         "Left button pans, Right button zooms\nx/y fixes axis, CTRL fixes aspect",
         "arrows",
         "pan"
        ],
        [
         "Zoom",
         "Zoom to rectangle\nx/y fixes axis, CTRL fixes aspect",
         "square-o",
         "zoom"
        ],
        [
         "Download",
         "Download plot",
         "floppy-o",
         "save_figure"
        ]
       ]
      }
     },
     "f0785da3abe14b62bd279ad517621654": {
      "model_module": "@jupyter-widgets/base",
      "model_module_version": "1.2.0",
      "model_name": "LayoutModel",
      "state": {}
     },
     "f096490403ed46d1a1a607ac035afb66": {
      "model_module": "@jupyter-widgets/base",
      "model_module_version": "1.2.0",
      "model_name": "LayoutModel",
      "state": {}
     },
     "f33e39a70bc64d148274306a055fbceb": {
      "model_module": "@jupyter-widgets/base",
      "model_module_version": "1.2.0",
      "model_name": "LayoutModel",
      "state": {}
     },
     "f86c2600730a4ea79ae933561760623c": {
      "model_module": "jupyter-matplotlib",
      "model_module_version": "^0.8.1",
      "model_name": "ToolbarModel",
      "state": {
       "layout": "IPY_MODEL_27be937f1b964e5da808e3666560c656",
       "toolitems": [
        [
         "Home",
         "Reset original view",
         "home",
         "home"
        ],
        [
         "Back",
         "Back to previous view",
         "arrow-left",
         "back"
        ],
        [
         "Forward",
         "Forward to next view",
         "arrow-right",
         "forward"
        ],
        [
         "Pan",
         "Left button pans, Right button zooms\nx/y fixes axis, CTRL fixes aspect",
         "arrows",
         "pan"
        ],
        [
         "Zoom",
         "Zoom to rectangle\nx/y fixes axis, CTRL fixes aspect",
         "square-o",
         "zoom"
        ],
        [
         "Download",
         "Download plot",
         "floppy-o",
         "save_figure"
        ]
       ]
      }
     },
     "ff7c92ad04ca4fd8a22c8ffd75a93351": {
      "model_module": "jupyter-matplotlib",
      "model_module_version": "^0.8.1",
      "model_name": "MPLCanvasModel",
      "state": {
       "_cursor": "default",
       "_figure_label": "Figure 1",
       "_height": 499,
       "_image_mode": "diff",
       "_message": "x=62.0 y=0.945",
       "_width": 799,
       "layout": "IPY_MODEL_6bf9bb9220ec4a03a2f8f7885fbdc85c",
       "toolbar": "IPY_MODEL_a9bb713dec5d4587b2f2952356839ea5",
       "toolbar_position": "left"
      }
     }
    },
    "version_major": 2,
    "version_minor": 0
   }
  }
 },
 "nbformat": 4,
 "nbformat_minor": 4
}
